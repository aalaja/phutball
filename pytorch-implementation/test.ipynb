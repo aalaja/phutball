{
 "cells": [
  {
   "cell_type": "code",
   "execution_count": 1,
   "metadata": {},
   "outputs": [],
   "source": [
    "%load_ext autoreload\n",
    "%autoreload 2"
   ]
  },
  {
   "cell_type": "code",
   "execution_count": 2,
   "metadata": {},
   "outputs": [],
   "source": [
    "from lib.model_v1 import TDConway\n",
    "import torch\n",
    "from lib.testing_utilities import get_num_params, boards, visualize_state\n",
    "from lib.utilities import config, product\n",
    "import matplotlib.pyplot as plt\n",
    "%matplotlib inline\n",
    "plt.ioff()"
   ]
  },
  {
   "cell_type": "code",
   "execution_count": 3,
   "metadata": {},
   "outputs": [
    {
     "name": "stdout",
     "output_type": "stream",
     "text": [
      "59,943,809 parameters\n"
     ]
    }
   ],
   "source": [
    "get_num_params(TDConway(config))"
   ]
  },
  {
   "cell_type": "code",
   "execution_count": 4,
   "metadata": {},
   "outputs": [
    {
     "data": {
      "text/plain": [
       "torch.Size([50, 2, 15, 19])"
      ]
     },
     "execution_count": 4,
     "metadata": {},
     "output_type": "execute_result"
    }
   ],
   "source": [
    "boards = torch.stack(boards)\n",
    "boards.shape"
   ]
  },
  {
   "cell_type": "code",
   "execution_count": 5,
   "metadata": {},
   "outputs": [],
   "source": [
    "td_conway = TDConway(config)"
   ]
  },
  {
   "cell_type": "code",
   "execution_count": 6,
   "metadata": {},
   "outputs": [
    {
     "name": "stdout",
     "output_type": "stream",
     "text": [
      "1.53 s ± 479 ms per loop (mean ± std. dev. of 7 runs, 1 loop each)\n"
     ]
    }
   ],
   "source": [
    "%%timeit\n",
    "with torch.no_grad():\n",
    "  td_conway(boards)"
   ]
  },
  {
   "cell_type": "code",
   "execution_count": 7,
   "metadata": {},
   "outputs": [
    {
     "data": {
      "text/plain": [
       "(tensor(0.3986), tensor(34))"
      ]
     },
     "execution_count": 7,
     "metadata": {},
     "output_type": "execute_result"
    }
   ],
   "source": [
    "with torch.no_grad():\n",
    "  res = td_conway(boards)\n",
    "res"
   ]
  },
  {
   "cell_type": "code",
   "execution_count": 8,
   "metadata": {},
   "outputs": [
    {
     "data": {
      "image/png": "[encoded data removed]",
      "text/plain": [
       "<Figure size 432x288 with 1 Axes>"
      ]
     },
     "execution_count": 8,
     "metadata": {},
     "output_type": "execute_result"
    }
   ],
   "source": [
    "visualize_state(boards[16])"
   ]
  },
  {
   "cell_type": "code",
   "execution_count": 9,
   "metadata": {},
   "outputs": [
    {
     "data": {
      "text/plain": [
       "tensor([0.4715, 0.4949, 0.5063, 0.5655, 0.5347, 0.5473, 0.5190, 0.5211, 0.5446,\n",
       "        0.5846, 0.4581, 0.5378, 0.5913, 0.5292, 0.5132, 0.5198, 0.5355, 0.5608,\n",
       "        0.5253, 0.5205, 0.4732, 0.5037, 0.5203, 0.4557, 0.5645, 0.6165, 0.4663,\n",
       "        0.4938, 0.5677, 0.5073, 0.5829, 0.5931, 0.4864, 0.5745, 0.4764, 0.4738,\n",
       "        0.6075, 0.5803, 0.5399, 0.5363, 0.5191, 0.5770, 0.5611, 0.5272, 0.4618,\n",
       "        0.5787, 0.5310, 0.5247, 0.5135, 0.5671])"
      ]
     },
     "execution_count": 9,
     "metadata": {},
     "output_type": "execute_result"
    }
   ],
   "source": [
    "with torch.no_grad():\n",
    "  res = td_conway(boards, get_all_values = True)\n",
    "res"
   ]
  },
  {
   "cell_type": "markdown",
   "metadata": {},
   "source": [
    "# Test Move Generation"
   ]
  },
  {
   "cell_type": "code",
   "execution_count": 10,
   "metadata": {},
   "outputs": [],
   "source": [
    "from lib.testing_utilities import boards, random_board\n",
    "\n",
    "from lib.move_selection import get_move_options\n",
    "\n",
    "from lib.timer import Timer\n",
    "\n",
    "import torch\n",
    "\n",
    "import numpy as np"
   ]
  },
  {
   "cell_type": "code",
   "execution_count": 11,
   "metadata": {},
   "outputs": [],
   "source": [
    "# for i, board in enumerate(boards):\n",
    "#   timer = Timer()\n",
    "#   options = get_move_options(board, torch.device('cpu'))\n",
    "#   print(f'Board {i} - {timer}')"
   ]
  },
  {
   "cell_type": "code",
   "execution_count": 12,
   "metadata": {},
   "outputs": [],
   "source": [
    "from lib.memory import get_memory_usage, format_bytes, print_memory_usage"
   ]
  },
  {
   "cell_type": "code",
   "execution_count": 13,
   "metadata": {},
   "outputs": [
    {
     "name": "stdout",
     "output_type": "stream",
     "text": [
      "537.10MiB\n"
     ]
    }
   ],
   "source": [
    "print_memory_usage()\n",
    "\n",
    "import gc\n",
    "\n",
    "gc.collect()\n",
    "\n",
    "print_memory_usage()"
   ]
  },
  {
   "cell_type": "code",
   "execution_count": null,
   "metadata": {},
   "outputs": [],
   "source": [
    "bad_boards = []\n",
    "\n",
    "np.random.seed(42)\n",
    "timer = Timer()\n",
    "for i in range(1, 1001):\n",
    "  if i % 100 == 0:\n",
    "    print(f'{i} boards done - {timer} - {format_bytes(memory)}')\n",
    "    timer = Timer()\n",
    "    \n",
    "  board = random_board(0.6)\n",
    "  \n",
    "  try:\n",
    "    get_move_options(board, device = torch.device('cpu'))\n",
    "  except RuntimeError as e:\n",
    "    bad_boards.append((board, e.args[0]))\n",
    "  \n",
    "  memory = get_memory_usage()\n",
    "  if memory > 1000000000: #1GB\n",
    "    raise RuntimeError('Excessive memory')\n",
    "    "
   ]
  },
  {
   "cell_type": "code",
   "execution_count": 22,
   "metadata": {},
   "outputs": [
    {
     "data": {
      "text/plain": [
       "24"
      ]
     },
     "execution_count": 22,
     "metadata": {},
     "output_type": "execute_result"
    }
   ],
   "source": [
    "len(bad_boards)"
   ]
  },
  {
   "cell_type": "code",
   "execution_count": null,
   "metadata": {},
   "outputs": [],
   "source": [
    "visualize_state(bad_boards[2][0])"
   ]
  }
 ],
 "metadata": {
  "kernelspec": {
   "display_name": "PyTorch",
   "language": "python",
   "name": "torch"
  },
  "language_info": {
   "codemirror_mode": {
    "name": "ipython",
    "version": 3
   },
   "file_extension": ".py",
   "mimetype": "text/x-python",
   "name": "python",
   "nbconvert_exporter": "python",
   "pygments_lexer": "ipython3",
   "version": "3.7.6"
  }
 },
 "nbformat": 4,
 "nbformat_minor": 4
}
