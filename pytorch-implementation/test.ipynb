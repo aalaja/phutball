{
 "cells": [
  {
   "cell_type": "code",
   "execution_count": 1,
   "metadata": {},
   "outputs": [],
   "source": [
    "%load_ext autoreload\n",
    "%autoreload 2"
   ]
  },
  {
   "cell_type": "code",
   "execution_count": 2,
   "metadata": {},
   "outputs": [],
   "source": [
    "import torch\n",
    "from lib.testing_utilities import get_num_params, boards, visualize_state, random_board\n",
    "from lib.utilities import config, product\n",
    "import matplotlib.pyplot as plt\n",
    "import numpy as np\n",
    "%matplotlib inline\n",
    "plt.ioff()"
   ]
  },
  {
   "cell_type": "code",
   "execution_count": 3,
   "metadata": {},
   "outputs": [],
   "source": [
    "# Generate 300 random boards for benchmarking\n",
    "boards = []\n",
    "np.random.seed(42)\n",
    "for _ in range(300):\n",
    "  density = np.random.uniform(0, 0.6) + 0.01\n",
    "  boards.append(random_board(density))\n",
    "\n",
    "for board in boards:\n",
    "  assert board[1].sum() == 1\n",
    "  \n",
    "boards = torch.stack(boards)"
   ]
  },
  {
   "cell_type": "markdown",
   "metadata": {},
   "source": [
    "## Model v1"
   ]
  },
  {
   "cell_type": "code",
   "execution_count": 4,
   "metadata": {},
   "outputs": [
    {
     "name": "stdout",
     "output_type": "stream",
     "text": [
      "59,943,809 parameters\n"
     ]
    }
   ],
   "source": [
    "from lib.model_v1 import TDConway as TDConway_1\n",
    "model_1 = TDConway_1(config)\n",
    "get_num_params(model_1)"
   ]
  },
  {
   "cell_type": "code",
   "execution_count": 5,
   "metadata": {},
   "outputs": [
    {
     "name": "stdout",
     "output_type": "stream",
     "text": [
      "8.09 s ± 547 ms per loop (mean ± std. dev. of 7 runs, 1 loop each)\n"
     ]
    }
   ],
   "source": [
    "%%timeit\n",
    "with torch.no_grad():\n",
    "  model_1(boards)"
   ]
  },
  {
   "cell_type": "code",
   "execution_count": 6,
   "metadata": {},
   "outputs": [],
   "source": [
    "# with torch.no_grad():\n",
    "#   res = td_conway(boards)\n",
    "# res"
   ]
  },
  {
   "cell_type": "markdown",
   "metadata": {},
   "source": [
    "## Model v2"
   ]
  },
  {
   "cell_type": "code",
   "execution_count": 10,
   "metadata": {},
   "outputs": [
    {
     "name": "stdout",
     "output_type": "stream",
     "text": [
      "4,529,089 parameters\n"
     ]
    }
   ],
   "source": [
    "from lib.model_v2 import TDConway as TDConway_2\n",
    "model_2 = TDConway_2(config)\n",
    "get_num_params(model_2)"
   ]
  },
  {
   "cell_type": "code",
   "execution_count": 11,
   "metadata": {},
   "outputs": [
    {
     "name": "stdout",
     "output_type": "stream",
     "text": [
      "1.09 s ± 20.1 ms per loop (mean ± std. dev. of 7 runs, 1 loop each)\n"
     ]
    }
   ],
   "source": [
    "%%timeit\n",
    "with torch.no_grad():\n",
    "  model_2(boards)"
   ]
  },
  {
   "cell_type": "markdown",
   "metadata": {},
   "source": [
    "# Test Move Generation"
   ]
  },
  {
   "cell_type": "code",
   "execution_count": null,
   "metadata": {},
   "outputs": [],
   "source": [
    "from lib.testing_utilities import boards, random_board\n",
    "from lib.move_selection import get_move_options\n",
    "from lib.timer import Timer\n",
    "import torch\n",
    "import numpy as np"
   ]
  },
  {
   "cell_type": "code",
   "execution_count": null,
   "metadata": {},
   "outputs": [],
   "source": [
    "# for i, board in enumerate(boards):\n",
    "#   timer = Timer()\n",
    "#   options = get_move_options(board, torch.device('cpu'))\n",
    "#   print(f'Board {i} - {timer}')"
   ]
  },
  {
   "cell_type": "code",
   "execution_count": null,
   "metadata": {},
   "outputs": [],
   "source": [
    "from lib.memory import get_memory_usage, format_bytes, print_memory_usage"
   ]
  },
  {
   "cell_type": "code",
   "execution_count": null,
   "metadata": {},
   "outputs": [],
   "source": [
    "print_memory_usage()\n",
    "\n",
    "import gc\n",
    "\n",
    "print(f'{gc.collect()} items collected')\n",
    "\n",
    "print_memory_usage()"
   ]
  },
  {
   "cell_type": "code",
   "execution_count": null,
   "metadata": {},
   "outputs": [],
   "source": [
    "bad_boards = []\n",
    "\n",
    "np.random.seed(42)\n",
    "timer = Timer()\n",
    "\n",
    "baseline_memory = get_memory_usage()\n",
    "\n",
    "for i in range(1, 1001):\n",
    "  if i % 10 == 0:\n",
    "    print(f'{i} boards done - {timer} - {format_bytes(memory)}')\n",
    "    timer = Timer()\n",
    "    \n",
    "  board = random_board(0.6)\n",
    "  \n",
    "  try:\n",
    "    get_move_options(board, device = torch.device('cpu'), debug = True)\n",
    "  except RuntimeError as e:\n",
    "    bad_boards.append((board, e.args[0]))\n",
    "  \n",
    "  memory = get_memory_usage()\n",
    "  if memory > baseline_memory + 2 * 1000 * 1000 * 1000: #2 GB\n",
    "    raise RuntimeError('Excessive memory')\n",
    "    "
   ]
  },
  {
   "cell_type": "code",
   "execution_count": null,
   "metadata": {},
   "outputs": [],
   "source": []
  },
  {
   "cell_type": "code",
   "execution_count": null,
   "metadata": {},
   "outputs": [],
   "source": []
  }
 ],
 "metadata": {
  "kernelspec": {
   "display_name": "PyTorch",
   "language": "python",
   "name": "torch"
  },
  "language_info": {
   "codemirror_mode": {
    "name": "ipython",
    "version": 3
   },
   "file_extension": ".py",
   "mimetype": "text/x-python",
   "name": "python",
   "nbconvert_exporter": "python",
   "pygments_lexer": "ipython3",
   "version": "3.7.6"
  }
 },
 "nbformat": 4,
 "nbformat_minor": 4
}
