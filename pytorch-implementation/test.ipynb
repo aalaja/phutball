{
 "cells": [
  {
   "cell_type": "code",
   "execution_count": 1,
   "metadata": {},
   "outputs": [],
   "source": [
    "%load_ext autoreload\n",
    "%autoreload 2"
   ]
  },
  {
   "cell_type": "code",
   "execution_count": 2,
   "metadata": {},
   "outputs": [],
   "source": [
    "from lib.model_v1 import TDConway\n",
    "import torch\n",
    "from lib.testing_utilities import get_num_params, boards, visualize_state\n",
    "from lib.utilities import config, product\n",
    "import matplotlib.pyplot as plt\n",
    "%matplotlib inline\n",
    "plt.ioff()"
   ]
  },
  {
   "cell_type": "code",
   "execution_count": null,
   "metadata": {},
   "outputs": [],
   "source": [
    "get_num_params(TDConway(config))"
   ]
  },
  {
   "cell_type": "code",
   "execution_count": null,
   "metadata": {},
   "outputs": [],
   "source": [
    "boards = torch.stack(boards)\n",
    "boards.shape"
   ]
  },
  {
   "cell_type": "code",
   "execution_count": null,
   "metadata": {},
   "outputs": [],
   "source": [
    "td_conway = TDConway(config)"
   ]
  },
  {
   "cell_type": "code",
   "execution_count": null,
   "metadata": {},
   "outputs": [],
   "source": [
    "%%timeit\n",
    "with torch.no_grad():\n",
    "  td_conway(boards)"
   ]
  },
  {
   "cell_type": "code",
   "execution_count": null,
   "metadata": {},
   "outputs": [],
   "source": [
    "with torch.no_grad():\n",
    "  res = td_conway(boards)\n",
    "res"
   ]
  },
  {
   "cell_type": "code",
   "execution_count": null,
   "metadata": {},
   "outputs": [],
   "source": [
    "visualize_state(boards[16])"
   ]
  },
  {
   "cell_type": "code",
   "execution_count": null,
   "metadata": {},
   "outputs": [],
   "source": [
    "with torch.no_grad():\n",
    "  res = td_conway(boards, get_all_values = True)\n",
    "res"
   ]
  },
  {
   "cell_type": "markdown",
   "metadata": {},
   "source": [
    "# Test Move Generation"
   ]
  },
  {
   "cell_type": "code",
   "execution_count": 3,
   "metadata": {},
   "outputs": [],
   "source": [
    "from lib.testing_utilities import boards, random_board\n",
    "\n",
    "from lib.move_selection import get_move_options\n",
    "\n",
    "from lib.timer import Timer\n",
    "\n",
    "import torch\n",
    "\n",
    "import numpy as np"
   ]
  },
  {
   "cell_type": "code",
   "execution_count": 4,
   "metadata": {},
   "outputs": [],
   "source": [
    "# for i, board in enumerate(boards):\n",
    "#   timer = Timer()\n",
    "#   options = get_move_options(board, torch.device('cpu'))\n",
    "#   print(f'Board {i} - {timer}')"
   ]
  },
  {
   "cell_type": "code",
   "execution_count": 5,
   "metadata": {},
   "outputs": [],
   "source": [
    "from lib.memory import get_memory_usage, format_bytes, print_memory_usage"
   ]
  },
  {
   "cell_type": "code",
   "execution_count": 6,
   "metadata": {},
   "outputs": [
    {
     "name": "stdout",
     "output_type": "stream",
     "text": [
      "171.07MiB\n",
      "60 items collected\n",
      "171.09MiB\n"
     ]
    }
   ],
   "source": [
    "print_memory_usage()\n",
    "\n",
    "import gc\n",
    "\n",
    "print(f'{gc.collect()} items collected')\n",
    "\n",
    "print_memory_usage()"
   ]
  },
  {
   "cell_type": "code",
   "execution_count": null,
   "metadata": {},
   "outputs": [],
   "source": [
    "bad_boards = []\n",
    "\n",
    "np.random.seed(42)\n",
    "timer = Timer()\n",
    "\n",
    "baseline_memory = get_memory_usage()\n",
    "\n",
    "for i in range(1, 1001):\n",
    "  if i % 10 == 0:\n",
    "    print(f'{i} boards done - {timer} - {format_bytes(memory)}')\n",
    "    timer = Timer()\n",
    "    \n",
    "  board = random_board(0.6)\n",
    "  \n",
    "  try:\n",
    "    get_move_options(board, device = torch.device('cpu'), debug = True)\n",
    "  except RuntimeError as e:\n",
    "    bad_boards.append((board, e.args[0]))\n",
    "  \n",
    "  memory = get_memory_usage()\n",
    "  if memory > baseline_memory + 2 * 1000 * 1000 * 1000: #2 GB\n",
    "    raise RuntimeError('Excessive memory')\n",
    "    "
   ]
  },
  {
   "cell_type": "code",
   "execution_count": null,
   "metadata": {},
   "outputs": [],
   "source": []
  },
  {
   "cell_type": "code",
   "execution_count": null,
   "metadata": {},
   "outputs": [],
   "source": []
  }
 ],
 "metadata": {
  "kernelspec": {
   "display_name": "PyTorch",
   "language": "python",
   "name": "torch"
  },
  "language_info": {
   "codemirror_mode": {
    "name": "ipython",
    "version": 3
   },
   "file_extension": ".py",
   "mimetype": "text/x-python",
   "name": "python",
   "nbconvert_exporter": "python",
   "pygments_lexer": "ipython3",
   "version": "3.7.6"
  }
 },
 "nbformat": 4,
 "nbformat_minor": 4
}
