{
 "cells": [
  {
   "cell_type": "markdown",
   "metadata": {},
   "source": [
    "# Phutball PyTorch Implementation\n",
    "This notebook is to develop a (not-so-simple) function that takes as input a PyTorch tensor representing the game stat, and as output returns a tensor representing the possible next states."
   ]
  },
  {
   "cell_type": "markdown",
   "metadata": {},
   "source": [
    "State representation:\n",
    "    - A tensor of shape (3, 15, 19) and dtype Boolean with the last two dimensions representing the board, and the first dimension the \"channels\".\n",
    "    - Channel 1: Whether a player is located there\n",
    "    - Channel 2: Whether the ball is located there\n",
    "    - Channel 3: Whether a player located there is jumpable.\n",
    "    \n",
    "For simplicty, the case where the ball is off the board need not be considered. If a state can be off the board **to the right only**, a special return value should be given indicated this.\n",
    "\n",
    "The bot will always be assumed to be playing to the **right**."
   ]
  },
  {
   "cell_type": "markdown",
   "metadata": {},
   "source": [
    "## Version 1: No implementation of Channel 3"
   ]
  },
  {
   "cell_type": "markdown",
   "metadata": {},
   "source": [
    "## Utilities\n",
    "Tools to construct and visualize the board states. Not meant to be performant."
   ]
  },
  {
   "cell_type": "code",
   "execution_count": null,
   "metadata": {},
   "outputs": [],
   "source": [
    "import matplotlib.pyplot as plt\n",
    "plt.ioff()"
   ]
  },
  {
   "cell_type": "code",
   "execution_count": 21,
   "metadata": {},
   "outputs": [],
   "source": [
    "import numpy as np"
   ]
  },
  {
   "cell_type": "code",
   "execution_count": 36,
   "metadata": {},
   "outputs": [],
   "source": [
    "from itertools import chain"
   ]
  },
  {
   "cell_type": "code",
   "execution_count": 41,
   "metadata": {},
   "outputs": [],
   "source": [
    "import torch"
   ]
  },
  {
   "cell_type": "code",
   "execution_count": 29,
   "metadata": {},
   "outputs": [],
   "source": [
    "class InvalidConfiguration(Exception):\n",
    "  pass"
   ]
  },
  {
   "cell_type": "code",
   "execution_count": 42,
   "metadata": {},
   "outputs": [],
   "source": [
    "BOARD_SHAPE = (15, 19)"
   ]
  },
  {
   "cell_type": "code",
   "execution_count": 54,
   "metadata": {},
   "outputs": [],
   "source": [
    "def parseLocation(locStr):\n",
    "  match = re.match('([A-HJ-P])(\\d+)', locStr)\n",
    "  if not match:\n",
    "    raise\n",
    "\n",
    "  row, col = match.groups()\n",
    "  row = 'ABCDEFGHJKLMNOP'.index(row)\n",
    "  col = int(col) - 1\n",
    "  \n",
    "  return row, col"
   ]
  },
  {
   "cell_type": "code",
   "execution_count": 46,
   "metadata": {},
   "outputs": [],
   "source": [
    "import re"
   ]
  },
  {
   "cell_type": "code",
   "execution_count": 72,
   "metadata": {},
   "outputs": [],
   "source": [
    "def createState(ballLoc, *playerLocs):\n",
    "  ballChannel   = np.zeros(BOARD_SHAPE)\n",
    "  playerChannel = np.zeros(BOARD_SHAPE)\n",
    "  \n",
    "  for (array, locs) in [(ballChannel, [ballLoc]), (playerChannel, playerLocs)]:\n",
    "    for loc in locs:\n",
    "      row, col = parseLocation(loc)\n",
    "      array[row][col] = 1\n",
    "  return torch.tensor(np.stack([playerChannel, ballChannel]), dtype = torch.bool)"
   ]
  },
  {
   "cell_type": "code",
   "execution_count": 73,
   "metadata": {},
   "outputs": [],
   "source": [
    "a = createState('H10', 'A3')"
   ]
  },
  {
   "cell_type": "code",
   "execution_count": 78,
   "metadata": {},
   "outputs": [
    {
     "data": {
      "text/plain": [
       "tensor([[[False, False,  True, False, False, False, False, False, False, False,\n",
       "          False, False, False, False, False, False, False, False, False],\n",
       "         [False, False, False, False, False, False, False, False, False, False,\n",
       "          False, False, False, False, False, False, False, False, False],\n",
       "         [False, False, False, False, False, False, False, False, False, False,\n",
       "          False, False, False, False, False, False, False, False, False],\n",
       "         [False, False, False, False, False, False, False, False, False, False,\n",
       "          False, False, False, False, False, False, False, False, False],\n",
       "         [False, False, False, False, False, False, False, False, False, False,\n",
       "          False, False, False, False, False, False, False, False, False],\n",
       "         [False, False, False, False, False, False, False, False, False, False,\n",
       "          False, False, False, False, False, False, False, False, False],\n",
       "         [False, False, False, False, False, False, False, False, False, False,\n",
       "          False, False, False, False, False, False, False, False, False],\n",
       "         [False, False, False, False, False, False, False, False, False, False,\n",
       "          False, False, False, False, False, False, False, False, False],\n",
       "         [False, False, False, False, False, False, False, False, False, False,\n",
       "          False, False, False, False, False, False, False, False, False],\n",
       "         [False, False, False, False, False, False, False, False, False, False,\n",
       "          False, False, False, False, False, False, False, False, False],\n",
       "         [False, False, False, False, False, False, False, False, False, False,\n",
       "          False, False, False, False, False, False, False, False, False],\n",
       "         [False, False, False, False, False, False, False, False, False, False,\n",
       "          False, False, False, False, False, False, False, False, False],\n",
       "         [False, False, False, False, False, False, False, False, False, False,\n",
       "          False, False, False, False, False, False, False, False, False],\n",
       "         [False, False, False, False, False, False, False, False, False, False,\n",
       "          False, False, False, False, False, False, False, False, False],\n",
       "         [False, False, False, False, False, False, False, False, False, False,\n",
       "          False, False, False, False, False, False, False, False, False]],\n",
       "\n",
       "        [[False, False, False, False, False, False, False, False, False, False,\n",
       "          False, False, False, False, False, False, False, False, False],\n",
       "         [False, False, False, False, False, False, False, False, False, False,\n",
       "          False, False, False, False, False, False, False, False, False],\n",
       "         [False, False, False, False, False, False, False, False, False, False,\n",
       "          False, False, False, False, False, False, False, False, False],\n",
       "         [False, False, False, False, False, False, False, False, False, False,\n",
       "          False, False, False, False, False, False, False, False, False],\n",
       "         [False, False, False, False, False, False, False, False, False, False,\n",
       "          False, False, False, False, False, False, False, False, False],\n",
       "         [False, False, False, False, False, False, False, False, False, False,\n",
       "          False, False, False, False, False, False, False, False, False],\n",
       "         [False, False, False, False, False, False, False, False, False, False,\n",
       "          False, False, False, False, False, False, False, False, False],\n",
       "         [False, False, False, False, False, False, False, False, False,  True,\n",
       "          False, False, False, False, False, False, False, False, False],\n",
       "         [False, False, False, False, False, False, False, False, False, False,\n",
       "          False, False, False, False, False, False, False, False, False],\n",
       "         [False, False, False, False, False, False, False, False, False, False,\n",
       "          False, False, False, False, False, False, False, False, False],\n",
       "         [False, False, False, False, False, False, False, False, False, False,\n",
       "          False, False, False, False, False, False, False, False, False],\n",
       "         [False, False, False, False, False, False, False, False, False, False,\n",
       "          False, False, False, False, False, False, False, False, False],\n",
       "         [False, False, False, False, False, False, False, False, False, False,\n",
       "          False, False, False, False, False, False, False, False, False],\n",
       "         [False, False, False, False, False, False, False, False, False, False,\n",
       "          False, False, False, False, False, False, False, False, False],\n",
       "         [False, False, False, False, False, False, False, False, False, False,\n",
       "          False, False, False, False, False, False, False, False, False]]])"
      ]
     },
     "execution_count": 78,
     "metadata": {},
     "output_type": "execute_result"
    }
   ],
   "source": [
    "a"
   ]
  },
  {
   "cell_type": "code",
   "execution_count": 66,
   "metadata": {},
   "outputs": [],
   "source": [
    "def visualize_state(tensor):\n",
    "  plt.close() # save memory\n",
    "  \n",
    "  data = tensor.numpy()\n",
    "  players = (data[0], 'black')\n",
    "  ball    = (data[1], 'red')\n",
    "  \n",
    "  if (players[0] + ball[0]).max() > 1:\n",
    "    raise InvalidConfiguration('Play and Ball collocated')\n",
    "  elif ball[0].sum() != 1:\n",
    "    raise InvalidConfiguration('Wrong number of balls')\n",
    "  \n",
    "  fig, ax = plt.subplots()\n",
    "  ax.set_xlim([0.5  , 19.5])\n",
    "  ax.set_ylim([-15.5, -0.5])\n",
    "  ax.grid(True)\n",
    "  ax.set_xticks(list(range(1,20)))\n",
    "  ax.set_yticks(list(range(-15, 0)));\n",
    "  ax.set_yticklabels('ABCDEFGHJKLMNOP'[::-1])\n",
    "\n",
    "  ax.add_patch(plt.Circle((10, -12), 0.3, color='black'))\n",
    "\n",
    "  for (array, color) in [players, ball]:\n",
    "    for row in range(15):\n",
    "      for col in range(19):\n",
    "        if array[row][col]:\n",
    "          ax.add_patch(plt.Circle((col+1, -(row+1)), 0.3, color=color))\n",
    "\n",
    "  return fig"
   ]
  },
  {
   "cell_type": "code",
   "execution_count": 35,
   "metadata": {},
   "outputs": [
    {
     "data": {
      "image/png": "[encoded data removed]",
      "text/plain": [
       "<Figure size 432x288 with 1 Axes>"
      ]
     },
     "execution_count": 35,
     "metadata": {},
     "output_type": "execute_result"
    }
   ],
   "source": [
    "fig"
   ]
  },
  {
   "cell_type": "code",
   "execution_count": null,
   "metadata": {},
   "outputs": [],
   "source": []
  }
 ],
 "metadata": {
  "kernelspec": {
   "display_name": "PyTorch",
   "language": "python",
   "name": "torch"
  },
  "language_info": {
   "codemirror_mode": {
    "name": "ipython",
    "version": 3
   },
   "file_extension": ".py",
   "mimetype": "text/x-python",
   "name": "python",
   "nbconvert_exporter": "python",
   "pygments_lexer": "ipython3",
   "version": "3.7.6"
  }
 },
 "nbformat": 4,
 "nbformat_minor": 2
}
