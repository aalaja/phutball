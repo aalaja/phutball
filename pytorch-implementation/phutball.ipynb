{
 "cells": [
  {
   "cell_type": "code",
   "execution_count": 1,
   "metadata": {},
   "outputs": [],
   "source": [
    "import matplotlib.pyplot as plt\n",
    "import numpy as np\n",
    "from itertools import chain\n",
    "import torch\n",
    "import re\n",
    "from collections import namedtuple\n",
    "\n",
    "BOARD_SHAPE = (15, 19)\n",
    "%matplotlib inline\n",
    "plt.ioff()\n",
    "\n",
    "Config = namedtuple('Config', ['rows', 'cols', 'letters'])\n",
    "\n",
    "config = Config(15, 19, 'ABCDEFGHJKLMNOP')\n",
    "BOARD_SHAPE = (config.rows, config.cols)"
   ]
  },
  {
   "cell_type": "code",
   "execution_count": 2,
   "metadata": {},
   "outputs": [
    {
     "data": {
      "text/plain": [
       "'1.5.0'"
      ]
     },
     "execution_count": 2,
     "metadata": {},
     "output_type": "execute_result"
    }
   ],
   "source": [
    "# Requires 1.5\n",
    "torch.__version__"
   ]
  },
  {
   "cell_type": "markdown",
   "metadata": {},
   "source": [
    "# Phutball PyTorch Implementation\n",
    "This notebook is to develop a (not-so-simple) function that takes as input a PyTorch tensor representing the game stat, and as output returns a tensor representing the possible next states."
   ]
  },
  {
   "cell_type": "markdown",
   "metadata": {},
   "source": [
    "State representation:\n",
    "    - A tensor of shape (3, 15, 19) and dtype Boolean with the last two dimensions representing the board, and the first dimension the \"channels\".\n",
    "    - Channel 1: Whether a player is located there\n",
    "    - Channel 2: Whether the ball is located there\n",
    "    - Channel 3: Whether a player located there is jumpable.\n",
    "    \n",
    "For simplicty, the case where the ball is off the board need not be considered. If a state can be off the board **to the right only**, a special return value should be given indicated this.\n",
    "\n",
    "The bot will always be assumed to be playing to the **right**."
   ]
  },
  {
   "cell_type": "markdown",
   "metadata": {},
   "source": [
    "## Version 1: No implementation of Channel 3"
   ]
  },
  {
   "cell_type": "markdown",
   "metadata": {},
   "source": [
    "## Utilities\n",
    "Tools to construct and visualize the board states. Not meant to be performant."
   ]
  },
  {
   "cell_type": "code",
   "execution_count": 3,
   "metadata": {},
   "outputs": [],
   "source": [
    "NUM_CHANNELS = 2"
   ]
  },
  {
   "cell_type": "code",
   "execution_count": 4,
   "metadata": {},
   "outputs": [],
   "source": [
    "class InvalidConfiguration(Exception):\n",
    "  pass"
   ]
  },
  {
   "cell_type": "code",
   "execution_count": 5,
   "metadata": {},
   "outputs": [],
   "source": [
    "def parseLocation(locStr):\n",
    "  match = re.match(f'([{config.letters}])(\\\\d+)', locStr)\n",
    "  if not match:\n",
    "    raise\n",
    "\n",
    "  row, col = match.groups()\n",
    "  row = config.letters.index(row)\n",
    "  col = int(col) - 1\n",
    "  \n",
    "  return row, col"
   ]
  },
  {
   "cell_type": "code",
   "execution_count": 6,
   "metadata": {},
   "outputs": [],
   "source": [
    "def createState(ballLoc, *playerLocs):\n",
    "  ballChannel   = np.zeros(BOARD_SHAPE)\n",
    "  playerChannel = np.zeros(BOARD_SHAPE)\n",
    "  \n",
    "  for (array, locs) in [(ballChannel, [ballLoc]), (playerChannel, playerLocs)]:\n",
    "    for loc in locs:\n",
    "      row, col = parseLocation(loc)\n",
    "      array[row][col] = 1\n",
    "  return torch.tensor(np.stack([playerChannel, ballChannel]), dtype = torch.bool)"
   ]
  },
  {
   "cell_type": "code",
   "execution_count": 7,
   "metadata": {},
   "outputs": [],
   "source": [
    "def visualize_state(tensor):\n",
    "  plt.close() # save memory\n",
    "  \n",
    "  data = tensor.numpy()\n",
    "  players = (data[0], 'black')\n",
    "  ball    = (data[1], 'red')\n",
    "  \n",
    "  if (players[0] + ball[0]).max() > 1:\n",
    "    raise InvalidConfiguration('Play and Ball collocated')\n",
    "  elif ball[0].sum() != 1:\n",
    "    raise InvalidConfiguration('Wrong number of balls')\n",
    "  \n",
    "  fig, ax = plt.subplots()\n",
    "  ax.set_xlim([0.5  , 19.5])\n",
    "  ax.set_ylim([-15.5, -0.5])\n",
    "  ax.grid(True)\n",
    "  ax.set_xticks(list(range(1,20)))\n",
    "  ax.set_yticks(list(range(-15, 0)));\n",
    "  ax.set_yticklabels('ABCDEFGHJKLMNOP'[::-1])\n",
    "\n",
    "  for (array, color) in [players, ball]:\n",
    "    for row in range(15):\n",
    "      for col in range(19):\n",
    "        if array[row][col]:\n",
    "          ax.add_patch(plt.Circle((col+1, -(row+1)), 0.3, color=color))\n",
    "\n",
    "  return fig"
   ]
  },
  {
   "cell_type": "code",
   "execution_count": 8,
   "metadata": {},
   "outputs": [
    {
     "data": {
      "image/png": "[encoded data removed]",
      "text/plain": [
       "<Figure size 432x288 with 1 Axes>"
      ]
     },
     "execution_count": 8,
     "metadata": {},
     "output_type": "execute_result"
    }
   ],
   "source": [
    "curr_state = createState('H10', 'A3')\n",
    "visualize_state(curr_state)"
   ]
  },
  {
   "cell_type": "markdown",
   "metadata": {},
   "source": [
    "## Computation of the Player Channel"
   ]
  },
  {
   "cell_type": "code",
   "execution_count": 9,
   "metadata": {},
   "outputs": [],
   "source": [
    "from functools import reduce"
   ]
  },
  {
   "cell_type": "code",
   "execution_count": 10,
   "metadata": {},
   "outputs": [],
   "source": [
    "# Exists in the math module in python 3.8+\n",
    "def product(iterable, start = 1):\n",
    "  return reduce(lambda x, y : x * y, iterable, start)"
   ]
  },
  {
   "cell_type": "code",
   "execution_count": 11,
   "metadata": {},
   "outputs": [],
   "source": [
    "# Indexing goes according to the torch.flatten\n",
    "#  logic, with earlier dimensions (here: row)\n",
    "def get_flat_index(row, col):\n",
    "  return row * config.cols + col"
   ]
  },
  {
   "cell_type": "code",
   "execution_count": 12,
   "metadata": {},
   "outputs": [],
   "source": [
    "# Create an array of all possible player additions, even the illegal ones\n",
    "#  Static: only has to be computed once. Performance not a concern.\n",
    "placements = np.zeros(\n",
    "  (product(BOARD_SHAPE), NUM_CHANNELS, *BOARD_SHAPE)\n",
    ")\n",
    "\n",
    "for row in range(config.rows):\n",
    "  for col in range(config.cols):\n",
    "    flat_index = get_flat_index(row, col)\n",
    "    \n",
    "    # Flat index is the branch for placement\n",
    "    # 0 is the player channel\n",
    "    placements[flat_index][0][row][col] = 1\n",
    "    \n",
    "placements = torch.tensor(placements, dtype = torch.bool)"
   ]
  },
  {
   "cell_type": "code",
   "execution_count": 13,
   "metadata": {},
   "outputs": [],
   "source": [
    "# Given a state curr_state, select only those placements which are legal\n",
    "\n",
    "# Consider only the ball and player layers and sum them and invert get legal positions\n",
    "players = curr_state.select(0, 0) # view\n",
    "ball    = curr_state.select(0, 1) # view\n",
    "legal   = torch.bitwise_or(players, ball).bitwise_not_() # new tensor\n",
    "\n",
    "legal_indices = legal.flatten().nonzero(as_tuple=True)[0]\n",
    "\n",
    "new_placements = placements.index_select(0, legal_indices)\n",
    "new_states = new_placements + curr_state"
   ]
  },
  {
   "cell_type": "markdown",
   "metadata": {},
   "source": [
    "### Testing"
   ]
  },
  {
   "cell_type": "code",
   "execution_count": 26,
   "metadata": {},
   "outputs": [
    {
     "data": {
      "image/png": "[encoded data removed]",
      "text/plain": [
       "<Figure size 432x288 with 1 Axes>"
      ]
     },
     "execution_count": 26,
     "metadata": {},
     "output_type": "execute_result"
    }
   ],
   "source": [
    "# First placement in upper left\n",
    "visualize_state(new_states[0])"
   ]
  },
  {
   "cell_type": "code",
   "execution_count": 27,
   "metadata": {},
   "outputs": [
    {
     "data": {
      "image/png": "[encoded data removed]",
      "text/plain": [
       "<Figure size 432x288 with 1 Axes>"
      ]
     },
     "execution_count": 27,
     "metadata": {},
     "output_type": "execute_result"
    }
   ],
   "source": [
    "# Second placement moves across rows\n",
    "visualize_state(new_states[1])"
   ]
  },
  {
   "cell_type": "code",
   "execution_count": 28,
   "metadata": {},
   "outputs": [
    {
     "data": {
      "image/png": "[encoded data removed]",
      "text/plain": [
       "<Figure size 432x288 with 1 Axes>"
      ]
     },
     "execution_count": 28,
     "metadata": {},
     "output_type": "execute_result"
    }
   ],
   "source": [
    "# Next placement skips the illegal spot\n",
    "visualize_state(new_states[2])"
   ]
  },
  {
   "cell_type": "code",
   "execution_count": 30,
   "metadata": {},
   "outputs": [
    {
     "data": {
      "image/png": "[encoded data removed]",
      "text/plain": [
       "<Figure size 432x288 with 1 Axes>"
      ]
     },
     "execution_count": 30,
     "metadata": {},
     "output_type": "execute_result"
    }
   ],
   "source": [
    "# Placement next to the ball\n",
    "visualize_state(new_states[140])"
   ]
  },
  {
   "cell_type": "code",
   "execution_count": 31,
   "metadata": {},
   "outputs": [
    {
     "data": {
      "image/png": "[encoded data removed]",
      "text/plain": [
       "<Figure size 432x288 with 1 Axes>"
      ]
     },
     "execution_count": 31,
     "metadata": {},
     "output_type": "execute_result"
    }
   ],
   "source": [
    "# Ball is skipped\n",
    "visualize_state(new_states[141])"
   ]
  }
 ],
 "metadata": {
  "kernelspec": {
   "display_name": "PyTorch",
   "language": "python",
   "name": "torch"
  },
  "language_info": {
   "codemirror_mode": {
    "name": "ipython",
    "version": 3
   },
   "file_extension": ".py",
   "mimetype": "text/x-python",
   "name": "python",
   "nbconvert_exporter": "python",
   "pygments_lexer": "ipython3",
   "version": "3.7.6"
  }
 },
 "nbformat": 4,
 "nbformat_minor": 2
}
