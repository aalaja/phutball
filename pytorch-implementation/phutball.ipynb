{
 "cells": [
  {
   "cell_type": "code",
   "execution_count": 461,
   "metadata": {},
   "outputs": [],
   "source": [
    "import matplotlib.pyplot as plt\n",
    "import numpy as np\n",
    "from itertools import chain\n",
    "import torch\n",
    "import re\n",
    "from collections import namedtuple\n",
    "\n",
    "BOARD_SHAPE = (15, 19)\n",
    "%matplotlib inline\n",
    "plt.ioff()\n",
    "\n",
    "Config = namedtuple('Config', ['rows', 'cols', 'letters'])\n",
    "\n",
    "config = Config(15, 19, 'ABCDEFGHJKLMNOP')\n",
    "BOARD_SHAPE = (config.rows, config.cols)"
   ]
  },
  {
   "cell_type": "code",
   "execution_count": 462,
   "metadata": {},
   "outputs": [
    {
     "data": {
      "text/plain": [
       "'1.5.0'"
      ]
     },
     "execution_count": 462,
     "metadata": {},
     "output_type": "execute_result"
    }
   ],
   "source": [
    "# Requires 1.5\n",
    "torch.__version__"
   ]
  },
  {
   "cell_type": "markdown",
   "metadata": {},
   "source": [
    "# Phutball PyTorch Implementation\n",
    "This notebook is to develop a (not-so-simple) function that takes as input a PyTorch tensor representing the game stat, and as output returns a tensor representing the possible next states."
   ]
  },
  {
   "cell_type": "markdown",
   "metadata": {},
   "source": [
    "State representation:\n",
    "    - A tensor of shape (3, 15, 19) and dtype Boolean with the last two dimensions representing the board, and the first dimension the \"channels\".\n",
    "    - Channel 1: Whether a player is located there\n",
    "    - Channel 2: Whether the ball is located there\n",
    "    - Channel 3: Whether a player located there is jumpable.\n",
    "    \n",
    "For simplicty, the case where the ball is off the board need not be considered. If a state can be off the board **to the right only**, a special return value should be given indicated this.\n",
    "\n",
    "The bot will always be assumed to be playing to the **right**."
   ]
  },
  {
   "cell_type": "markdown",
   "metadata": {},
   "source": [
    "## Part 1: Placement, without worrying about channel 3"
   ]
  },
  {
   "cell_type": "markdown",
   "metadata": {},
   "source": [
    "## Utilities\n",
    "Tools to construct and visualize the board states. Not meant to be performant."
   ]
  },
  {
   "cell_type": "code",
   "execution_count": 463,
   "metadata": {},
   "outputs": [],
   "source": [
    "NUM_CHANNELS = 2"
   ]
  },
  {
   "cell_type": "code",
   "execution_count": 464,
   "metadata": {},
   "outputs": [],
   "source": [
    "class InvalidConfiguration(Exception):\n",
    "  pass"
   ]
  },
  {
   "cell_type": "code",
   "execution_count": 504,
   "metadata": {},
   "outputs": [],
   "source": [
    "def parseLocation(locStr):\n",
    "  try:\n",
    "    match = re.match(f'([{config.letters}])(\\\\d+)', locStr)\n",
    "  except Exception as e:\n",
    "    raise ValueError(f'Bad Location {locStr}') from e\n",
    "  if not match:\n",
    "    raise ValueError(f'Bad location {locStr}')\n",
    "\n",
    "  row, col = match.groups()\n",
    "  row = config.letters.index(row)\n",
    "  col = int(col) - 1\n",
    "  \n",
    "  return row, col"
   ]
  },
  {
   "cell_type": "code",
   "execution_count": 466,
   "metadata": {},
   "outputs": [],
   "source": [
    "def createState(ballLoc, *playerLocs):\n",
    "  ballChannel   = np.zeros(BOARD_SHAPE)\n",
    "  playerChannel = np.zeros(BOARD_SHAPE)\n",
    "  \n",
    "  for (array, locs) in [(ballChannel, [ballLoc]), (playerChannel, playerLocs)]:\n",
    "    for loc in locs:\n",
    "      row, col = parseLocation(loc)\n",
    "      array[row][col] = 1\n",
    "  return torch.tensor(np.stack([playerChannel, ballChannel]), dtype = torch.bool)"
   ]
  },
  {
   "cell_type": "code",
   "execution_count": 467,
   "metadata": {},
   "outputs": [],
   "source": [
    "def visualize_state(tensor):\n",
    "  plt.close() # save memory\n",
    "  \n",
    "  data = tensor.numpy()\n",
    "  players = (data[0], 'black')\n",
    "  ball    = (data[1], 'red')\n",
    "  \n",
    "  if (players[0] + ball[0]).max() > 1:\n",
    "    raise InvalidConfiguration('Play and Ball collocated')\n",
    "  elif ball[0].sum() != 1:\n",
    "    raise InvalidConfiguration('Wrong number of balls')\n",
    "  \n",
    "  fig, ax = plt.subplots()\n",
    "  ax.set_xlim([0.5  , 19.5])\n",
    "  ax.set_ylim([-15.5, -0.5])\n",
    "  ax.grid(True)\n",
    "  ax.set_xticks(list(range(1,20)))\n",
    "  ax.set_yticks(list(range(-15, 0)));\n",
    "  ax.set_yticklabels('ABCDEFGHJKLMNOP'[::-1])\n",
    "\n",
    "  for (array, color) in [players, ball]:\n",
    "    for row in range(15):\n",
    "      for col in range(19):\n",
    "        if array[row][col]:\n",
    "          ax.add_patch(plt.Circle((col+1, -(row+1)), 0.3, color=color))\n",
    "\n",
    "  return fig"
   ]
  },
  {
   "cell_type": "code",
   "execution_count": 468,
   "metadata": {},
   "outputs": [
    {
     "data": {
      "image/png": "[encoded data removed]",
      "text/plain": [
       "<Figure size 432x288 with 1 Axes>"
      ]
     },
     "execution_count": 468,
     "metadata": {},
     "output_type": "execute_result"
    }
   ],
   "source": [
    "curr_state = createState('H10', 'A3')\n",
    "visualize_state(curr_state)"
   ]
  },
  {
   "cell_type": "markdown",
   "metadata": {},
   "source": [
    "## Computation of the Player Channel"
   ]
  },
  {
   "cell_type": "code",
   "execution_count": 469,
   "metadata": {},
   "outputs": [],
   "source": [
    "from functools import reduce"
   ]
  },
  {
   "cell_type": "code",
   "execution_count": 470,
   "metadata": {},
   "outputs": [],
   "source": [
    "# Exists in the math module in python 3.8+\n",
    "def product(iterable, start = 1):\n",
    "  return reduce(lambda x, y : x * y, iterable, start)"
   ]
  },
  {
   "cell_type": "code",
   "execution_count": 471,
   "metadata": {},
   "outputs": [],
   "source": [
    "# Indexing goes according to the torch.flatten\n",
    "#  logic, with earlier dimensions (here: row)\n",
    "def get_flat_index(row, col):\n",
    "  return row * config.cols + col"
   ]
  },
  {
   "cell_type": "code",
   "execution_count": 472,
   "metadata": {},
   "outputs": [],
   "source": [
    "# Create an array of all possible player additions, even the illegal ones\n",
    "#  Static: only has to be computed once. Performance not a concern.\n",
    "placements = np.zeros(\n",
    "  (product(BOARD_SHAPE), NUM_CHANNELS, *BOARD_SHAPE)\n",
    ")\n",
    "\n",
    "for row in range(config.rows):\n",
    "  for col in range(config.cols):\n",
    "    flat_index = get_flat_index(row, col)\n",
    "    \n",
    "    # Flat index is the branch for placement\n",
    "    # 0 is the player channel\n",
    "    placements[flat_index][0][row][col] = 1\n",
    "    \n",
    "placements = torch.tensor(placements, dtype = torch.bool)"
   ]
  },
  {
   "cell_type": "code",
   "execution_count": 473,
   "metadata": {},
   "outputs": [],
   "source": [
    "def possible_placements(curr_state):\n",
    "  '''Given a state curr_state, compute legal next states due to placing\n",
    "  a piece\n",
    "  \n",
    "  Input: a (channels, config.rows, config.cols) bool tensor representing\n",
    "         the board state\n",
    "  \n",
    "  Output: a (branchNum, channels, config.rows, config.cols) bool tensor\n",
    "          with dim=0 indexing the possible next states and brancNum\n",
    "          the number of legal moves.\n",
    "  \n",
    "  '''\n",
    "\n",
    "  # Consider only the ball and player layers and sum them and invert get legal positions\n",
    "  players = curr_state.select(0, 0) # view\n",
    "  ball    = curr_state.select(0, 1) # view\n",
    "  legal   = torch.bitwise_or(players, ball).bitwise_not_() # new tensor\n",
    "\n",
    "  legal_indices = legal.flatten().nonzero(as_tuple=True)[0]\n",
    "\n",
    "  new_placements = placements.index_select(0, legal_indices)\n",
    "  new_states = new_placements + curr_state\n",
    "  \n",
    "  return new_states"
   ]
  },
  {
   "cell_type": "markdown",
   "metadata": {},
   "source": [
    "### Testing"
   ]
  },
  {
   "cell_type": "code",
   "execution_count": 476,
   "metadata": {},
   "outputs": [],
   "source": [
    "new_states = possible_placements(curr_state)"
   ]
  },
  {
   "cell_type": "code",
   "execution_count": 477,
   "metadata": {},
   "outputs": [
    {
     "data": {
      "image/png": "[encoded data removed]",
      "text/plain": [
       "<Figure size 432x288 with 1 Axes>"
      ]
     },
     "execution_count": 477,
     "metadata": {},
     "output_type": "execute_result"
    }
   ],
   "source": [
    "# First placement in upper left\n",
    "visualize_state(new_states[0])"
   ]
  },
  {
   "cell_type": "code",
   "execution_count": 478,
   "metadata": {},
   "outputs": [
    {
     "data": {
      "image/png": "[encoded data removed]",
      "text/plain": [
       "<Figure size 432x288 with 1 Axes>"
      ]
     },
     "execution_count": 478,
     "metadata": {},
     "output_type": "execute_result"
    }
   ],
   "source": [
    "# Second placement moves across rows\n",
    "visualize_state(new_states[1])"
   ]
  },
  {
   "cell_type": "code",
   "execution_count": 479,
   "metadata": {},
   "outputs": [
    {
     "data": {
      "image/png": "[encoded data removed]",
      "text/plain": [
       "<Figure size 432x288 with 1 Axes>"
      ]
     },
     "execution_count": 479,
     "metadata": {},
     "output_type": "execute_result"
    }
   ],
   "source": [
    "# Next placement skips the illegal spot\n",
    "visualize_state(new_states[2])"
   ]
  },
  {
   "cell_type": "code",
   "execution_count": 480,
   "metadata": {},
   "outputs": [
    {
     "data": {
      "image/png": "[encoded data removed]",
      "text/plain": [
       "<Figure size 432x288 with 1 Axes>"
      ]
     },
     "execution_count": 480,
     "metadata": {},
     "output_type": "execute_result"
    }
   ],
   "source": [
    "# Placement next to the ball\n",
    "visualize_state(new_states[140])"
   ]
  },
  {
   "cell_type": "code",
   "execution_count": 481,
   "metadata": {},
   "outputs": [
    {
     "data": {
      "image/png": "[encoded data removed]",
      "text/plain": [
       "<Figure size 432x288 with 1 Axes>"
      ]
     },
     "execution_count": 481,
     "metadata": {},
     "output_type": "execute_result"
    }
   ],
   "source": [
    "# Ball is skipped\n",
    "visualize_state(new_states[141])"
   ]
  },
  {
   "cell_type": "markdown",
   "metadata": {},
   "source": [
    "### Profiling (on CPU)"
   ]
  },
  {
   "cell_type": "code",
   "execution_count": 482,
   "metadata": {},
   "outputs": [],
   "source": [
    "def lmap(func, iterable): return list(map(func, iterable))\n",
    "def lfilter(predicate, iterable): return list(filter(predicate, iterable))"
   ]
  },
  {
   "cell_type": "code",
   "execution_count": 483,
   "metadata": {},
   "outputs": [],
   "source": [
    "from more_itertools import unique_everseen"
   ]
  },
  {
   "cell_type": "code",
   "execution_count": 484,
   "metadata": {},
   "outputs": [],
   "source": [
    "import math"
   ]
  },
  {
   "cell_type": "code",
   "execution_count": 485,
   "metadata": {},
   "outputs": [],
   "source": [
    "def genLoc(n, *exclude, depth = 0):\n",
    "  '''Generate n random locations not overlapping exclude'''\n",
    "  \n",
    "  if depth > 10:\n",
    "    raise RecursionError('Unable to generate enough examples by choosing at random with replacement')\n",
    "  letter_choices = list(iter(config.letters))\n",
    "  \n",
    "  # Create a few extra to account for exclusions\n",
    "  letters = np.random.choice(letter_choices, math.floor(n * 2)).tolist()\n",
    "  nums    = np.random.randint(1, 20, n + 3).tolist()\n",
    "  \n",
    "  locs = map(lambda tup : tup[0] + str(tup[1]), zip(letters, nums))\n",
    "  locs = filter(lambda loc : loc not in exclude, locs)\n",
    "  locs = list(unique_everseen(locs))\n",
    "  \n",
    "  if len(locs) < n:\n",
    "    return genLoc(n, *exclude, depth = depth + 1)\n",
    "  else:\n",
    "    return locs[:n]"
   ]
  },
  {
   "cell_type": "code",
   "execution_count": 486,
   "metadata": {},
   "outputs": [],
   "source": [
    "# 50 boards of varying sizes\n",
    "boards = [createState('H10', *genLoc(i, 'H10')) for i in range(50)]"
   ]
  },
  {
   "cell_type": "code",
   "execution_count": 487,
   "metadata": {},
   "outputs": [
    {
     "name": "stdout",
     "output_type": "stream",
     "text": [
      "110 µs ± 3.73 µs per loop (mean ± std. dev. of 7 runs, 10000 loops each)\n"
     ]
    }
   ],
   "source": [
    "%%timeit\n",
    "possible_placements(boards[0]);"
   ]
  },
  {
   "cell_type": "code",
   "execution_count": 488,
   "metadata": {},
   "outputs": [
    {
     "name": "stdout",
     "output_type": "stream",
     "text": [
      "147 µs ± 84.5 µs per loop (mean ± std. dev. of 7 runs, 10000 loops each)\n"
     ]
    }
   ],
   "source": [
    "%%timeit\n",
    "possible_placements(boards[-1]);"
   ]
  },
  {
   "cell_type": "code",
   "execution_count": 489,
   "metadata": {},
   "outputs": [],
   "source": [
    "# Conclusion: extremely fast. Compared to the time to compute the network, essentially 0."
   ]
  },
  {
   "cell_type": "markdown",
   "metadata": {},
   "source": [
    "# Part 2: Jumps, without worrying about channel 3"
   ]
  },
  {
   "cell_type": "markdown",
   "metadata": {},
   "source": [
    "After racking my brain, I can't see any way to do this without either (a) extensive roundtrips to the CPU; or (b)\n",
    "A single trip to the CPU to do the computations and return.\n",
    "\n",
    "This is implemented in the exact same way as in /app/webserver/frontend/src/gameLogic/jump.js, but uses caches for efficience. It's also a bit more parsimonious"
   ]
  },
  {
   "cell_type": "markdown",
   "metadata": {},
   "source": [
    "### Some Profiling"
   ]
  },
  {
   "cell_type": "code",
   "execution_count": 490,
   "metadata": {},
   "outputs": [],
   "source": [
    "from functools import lru_cache"
   ]
  },
  {
   "cell_type": "code",
   "execution_count": 491,
   "metadata": {},
   "outputs": [],
   "source": [
    "from itertools import product as cartesian_product"
   ]
  },
  {
   "cell_type": "code",
   "execution_count": 492,
   "metadata": {},
   "outputs": [],
   "source": [
    "from itertools import chain"
   ]
  },
  {
   "cell_type": "code",
   "execution_count": 493,
   "metadata": {},
   "outputs": [],
   "source": [
    "# List are monads\n",
    "# \"A monad is just a monoid in the category of endofunctors, what's the problem?\"\n",
    "join = chain.from_iterable"
   ]
  },
  {
   "cell_type": "code",
   "execution_count": 582,
   "metadata": {},
   "outputs": [],
   "source": [
    "class Direction:\n",
    "  '''Represents one of the 8 directions (horizontal, vertical,\n",
    "  or 4 diagonals) based on the standard numpad 1-9. e.g.\n",
    "  1 is down-left; 5 is stay pat; 8 is straight up.\n",
    "  \n",
    "  Coordinates are in index-coordinates (0-14 for the rows,\n",
    "  and 0-18 for the columns). Compare board coordinates\n",
    "  (1-15 and 1-19 respectively).\n",
    "  \n",
    "  Index coordinates -1 and 19 are legal but not \n",
    "  on the board.\n",
    "  \n",
    "  Non-performant; will be wrapped in a cache.\n",
    "  '''\n",
    "  def __init__(self, direction):\n",
    "    self.deltaX = 0\n",
    "    self.deltaY = 0\n",
    "    self.code   = direction\n",
    "    \n",
    "    if direction in [1,4,7]:\n",
    "      self.deltaX = -1\n",
    "    elif direction in [3,6,9]:\n",
    "      self.deltaX = +1\n",
    "      \n",
    "    # Note that the the y direction\n",
    "    #  is reversed because the 0-index\n",
    "    #  is at the top\n",
    "    if direction in [1,2,3]:\n",
    "      self.deltaY = +1 \n",
    "    elif direction in [7,8,9]:\n",
    "      self.deltaY = -1\n",
    "      \n",
    "  def add(self, y, x):\n",
    "    outInfo = namedtuple('OutInfo', ['index', 'isLegal', 'onBoard', 'code'])\n",
    "    \n",
    "    outX = x + self.deltaX\n",
    "    outY = y + self.deltaY\n",
    "    \n",
    "    if -1 <= outX <= config.cols + 1 and \\\n",
    "        0 <= outY < config.rows:\n",
    "      legalPosition = True\n",
    "    else:\n",
    "      legalPosition = False\n",
    "    \n",
    "    if legalPosition and 0 <= outX < config.cols:\n",
    "      onBoard = True\n",
    "    else:\n",
    "      onBoard = False\n",
    "      \n",
    "    return outInfo((outY, outX), legalPosition, onBoard, self.code)"
   ]
  },
  {
   "cell_type": "code",
   "execution_count": 588,
   "metadata": {},
   "outputs": [
    {
     "name": "stdout",
     "output_type": "stream",
     "text": [
      "CPU times: user 236 ms, sys: 6.54 ms, total: 243 ms\n",
      "Wall time: 260 ms\n",
      "CacheInfo(hits=0, misses=285, maxsize=512, currsize=285)\n",
      "\n",
      "63.7 µs ± 1.9 µs per loop (mean ± std. dev. of 7 runs, 10000 loops each)\n",
      "CacheInfo(hits=23116635, misses=285, maxsize=512, currsize=285)\n",
      "\n",
      "42.8 µs ± 5.27 µs per loop (mean ± std. dev. of 7 runs, 10000 loops each)\n"
     ]
    }
   ],
   "source": [
    "# Wrap the above computations in a cache.\n",
    "#  Compare functools.lru_cache and native python dic\n",
    "@lru_cache(maxsize = 512)\n",
    "def get_dests_from_rest(currPos):\n",
    "  directions = map(Direction, [1,2,3,4,6,7,8,9]) #No 5\n",
    "  dests = map(lambda direction : direction.add(*currPos), directions)\n",
    "  dests = filter(lambda dest : dest.onBoard, dests)\n",
    "  dests = map(lambda dest : dest.index, dests)\n",
    "  dests = list(dests)\n",
    "  return dests\n",
    "\n",
    "get_dests_from_rest.cache_clear()\n",
    "\n",
    "# Time it uncached\n",
    "%time [get_dests_from_rest(currPos) for currPos in cartesian_product(range(config.rows), range(config.cols))]\n",
    "\n",
    "print(get_dests_from_rest.cache_info())\n",
    "print()\n",
    "\n",
    "# Time it cached\n",
    "%timeit [get_dests_from_rest(currPos) for currPos in cartesian_product(range(config.rows), range(config.cols))]\n",
    "print(get_dests_from_rest.cache_info())\n",
    "print()\n",
    "\n",
    "# Compare to a python dict (these are waaay faster)\n",
    "get_dests_from_rest.cache_clear()\n",
    "from_rest = {}\n",
    "\n",
    "for currPos in cartesian_product(range(config.rows), range(config.cols)):\n",
    "  from_rest[currPos] = get_dests_from_rest(currPos)\n",
    "\n",
    "%timeit [from_rest[currPos] for currPos in cartesian_product(range(config.rows), range(config.cols))]"
   ]
  },
  {
   "cell_type": "code",
   "execution_count": 591,
   "metadata": {},
   "outputs": [],
   "source": [
    "# We actually want a slightly different function returning\n",
    "#  (newIndex, direction)\n",
    "def _get_dests_from_rest(currPos):\n",
    "  directions = map(Direction, [1,2,3,4,6,7,8,9]) #No 5\n",
    "  dests = map(lambda direction : direction.add(*currPos), directions)\n",
    "  dests = filter(lambda dest : dest.onBoard, dests)\n",
    "  dests = map(lambda dest : (dest.index, dest.code), dests)\n",
    "  dests = list(dests)\n",
    "  return dests\n",
    "\n",
    "get_dests_from_rest = {}\n",
    "for currPos in cartesian_product(range(config.rows), range(config.cols)):\n",
    "  get_dests_from_rest[currPos] = _get_dests_from_rest(currPos)\n",
    "\n",
    "# Only ever returns 0 or 1 return values.\n",
    "#  but it is a list, hence plural\n",
    "@lru_cache(maxsize = 4096)\n",
    "def _get_dests_from_motion(data):\n",
    "  '''Input: same type as output of \n",
    "  get_dests_from_rest\n",
    "  '''\n",
    "  loc, direction = data\n",
    "  \n",
    "  direction = Direction(direction)\n",
    "  new_loc   = direction.add(*loc)\n",
    "  if new_loc.isLegal:\n",
    "    return [new_loc.index]\n",
    "  else:\n",
    "    return []"
   ]
  },
  {
   "cell_type": "code",
   "execution_count": 592,
   "metadata": {},
   "outputs": [
    {
     "name": "stdout",
     "output_type": "stream",
     "text": [
      "CPU times: user 240 ms, sys: 7.98 ms, total: 248 ms\n",
      "Wall time: 284 ms\n",
      "CacheInfo(hits=0, misses=2080, maxsize=4096, currsize=2080)\n",
      "\n",
      "638 µs ± 193 µs per loop (mean ± std. dev. of 7 runs, 1000 loops each)\n",
      "CacheInfo(hits=16870880, misses=2080, maxsize=4096, currsize=2080)\n",
      "\n",
      "243 µs ± 15.3 µs per loop (mean ± std. dev. of 7 runs, 1000 loops each)\n"
     ]
    }
   ],
   "source": [
    "# Check there are the correct number of values to call\n",
    "#  The number is given by inclusion-exclusion (suitably modified)\n",
    "assert len(list(join(get_dests_from_rest.values()))) == (17*13*8 + ((17 + 13) * 2) * 5 + 4 * 3)\n",
    "\n",
    "# Uncached\n",
    "_get_dests_from_motion.cache_clear()\n",
    "%time [_get_dests_from_motion(val) for val in join(get_dests_from_rest.values())]\n",
    "\n",
    "print(_get_dests_from_motion.cache_info())\n",
    "print()\n",
    "\n",
    "# Cached\n",
    "%timeit [_get_dests_from_motion(val) for val in join(get_dests_from_rest.values())]\n",
    "\n",
    "print(_get_dests_from_motion.cache_info())\n",
    "print()\n",
    "\n",
    "# Build the dict\n",
    "get_dest_from_motion = {}\n",
    "for val in join(get_dests_from_rest.values()):\n",
    "  get_dest_from_motion[val] = _get_dests_from_motion(val)\n",
    "  \n",
    "%timeit [get_dest_from_motion[val] for val in join(get_dests_from_rest.values())]"
   ]
  },
  {
   "cell_type": "markdown",
   "metadata": {},
   "source": [
    "### The Actual Algorithm\n",
    "Recursion but without the function calls... use a queue instead"
   ]
  },
  {
   "cell_type": "markdown",
   "metadata": {},
   "source": [
    "#### Algorithm"
   ]
  },
  {
   "cell_type": "code",
   "execution_count": 643,
   "metadata": {},
   "outputs": [],
   "source": [
    "def build_new_state(curr_state, dest_list, new_ball_loc):\n",
    "  '''Create a new numpy array representing the new new state\n",
    "  \n",
    "  Input\n",
    "  -----\n",
    "  \n",
    "  curr_state: current_state a shape (numChannels, config.rows, config.cols) \n",
    "              numpy array\n",
    "              \n",
    "  dest_list: a list of the initial and intermediate locations of the ball\n",
    "             (but not the final location, which may not be on the board)\n",
    "\n",
    "  new_ball_loc: the final location of the ball, which should be none\n",
    "                if it is not on the board\n",
    "                \n",
    "  Output\n",
    "  ------\n",
    "  \n",
    "  A new numpy array of same shape as curr_state that represents the new state\n",
    "  '''\n",
    "  \n",
    "  delta = np.zeros((NUM_CHANNELS, config.rows, config.cols))\n",
    "  \n",
    "  initial_ball_loc = dest_list[0]\n",
    "  players_removed  = dest_list[1:]\n",
    "  \n",
    "  delta[1][initial_ball_loc]             = -1\n",
    "  delta[0][tuple(zip(*players_removed))] = -1\n",
    "  if new_ball_loc is not None:\n",
    "    delta[1][new_ball_loc]               = +1\n",
    "    \n",
    "  return curr_state + delta"
   ]
  },
  {
   "cell_type": "code",
   "execution_count": 671,
   "metadata": {},
   "outputs": [],
   "source": [
    "def get_jumps(curr_state):\n",
    "  '''Given a current state in the form of a state tensor\n",
    "  return data for all possible jumps.\n",
    "  \n",
    "  Input: State tensor of shape (num_channels, config.rows, config.cols)\n",
    "  \n",
    "  Output: array of jump data each of the form\n",
    "    (new_state_array, jump_chain) where new_state_array is a numpy array\n",
    "    and a jump chain is a list of (row, col) tuples of intermediate and final\n",
    "    locations of the ball along the jump (but excluding the initial location).\n",
    "    In the case where it is possible to win, the return is a singleton array,\n",
    "    which should be checked for the win condition.\n",
    "  \n",
    "  '''\n",
    "  curr_state = curr_state.numpy()\n",
    "  ball_loc = tuple(np.argwhere(curr_state[1])[0])\n",
    "\n",
    "  # Queue of states to attempt to jump from, with data:\n",
    "  #  (state_array, ball_loc, jump_chain).\n",
    "  to_compute_from_rest   = [(curr_state, ball_loc, [])]\n",
    "  \n",
    "  # Return list of jump data\n",
    "  jumps                  = []\n",
    "\n",
    "  while to_compute_from_rest:\n",
    "\n",
    "    # Unpack the first item in the queue\n",
    "    state, ball_loc, preceding_chain  = to_compute_from_rest.pop()\n",
    "    \n",
    "    # Compute the adjacent locations the ball may be able to jump to\n",
    "    dests, directions = zip(*get_dests_from_rest[ball_loc])\n",
    "\n",
    "    # Compute whether there is a player in each of those directions\n",
    "    player_occupied   = state[0][tuple(zip(*dests))]\n",
    "\n",
    "    # For each potential jump\n",
    "    for dest, direction, player_occupied in zip(dests, directions, player_occupied):\n",
    "      \n",
    "      # Jump is illegal if no player is there\n",
    "      if not player_occupied:\n",
    "        continue\n",
    "\n",
    "      # Set up the list of initial/intermediate locations\n",
    "      #  of the ball\n",
    "      dest_list = [ball_loc, dest]\n",
    "\n",
    "      # Loop while the jump hasn't failed or terminated\n",
    "      while True:\n",
    "        dest = get_dest_from_motion[(dest, direction)]\n",
    "\n",
    "        # Don't jump off the board\n",
    "        if not dest:\n",
    "          break\n",
    "        else:\n",
    "          dest = dest[0]\n",
    "\n",
    "        # The bot always moves to the right\n",
    "        #  Never jump off the left\n",
    "        if dest[1] == -1:\n",
    "          break\n",
    "\n",
    "        # If the bot can jump off the right then the\n",
    "        #  game is over. Raise that value up as there\n",
    "        #  is no further inference step for the bot.\n",
    "        #  i.e. hard-code winning\n",
    "        if dest[1] == config.cols:\n",
    "          new_state = build_new_state(state, dest_list, new_ball_loc = None)\n",
    "          jump_data = (new_state, preceding_chain + [dest])\n",
    "          return [jump_data]\n",
    "\n",
    "        # See whether there is a player in the new location\n",
    "        player_occupied = state[0, dest[0], dest[1]]\n",
    "        \n",
    "        # If there is, the ball can go there and keep moving\n",
    "        #  so continue the loop\n",
    "        if player_occupied:\n",
    "          dest_list.append(dest)\n",
    "\n",
    "        # If not, the jump terminates\n",
    "        elif not player_occupied:\n",
    "          new_state = build_new_state(state, dest_list, new_ball_loc = dest)\n",
    "          jump_data = (new_state, preceding_chain + [dest])\n",
    "\n",
    "          # If the jump is a winning jump,\n",
    "          #  just return it as a (winning)\n",
    "          #  singleton array\n",
    "          if dest[0] == config.cols - 1:\n",
    "            return [jump_data]\n",
    "          \n",
    "          # Queue the new state for potential chaining\n",
    "          to_compute_from_rest.append((new_state, dest, preceding_chain + [dest]))\n",
    "\n",
    "          # Only put the jump_data in the list of \n",
    "          #  jumps to evaluate if it doesn't make you lose\n",
    "          if dest[1] != 0:\n",
    "            jumps.append(jump_data)\n",
    "            \n",
    "          break\n",
    "            \n",
    "  return jumps"
   ]
  },
  {
   "cell_type": "markdown",
   "metadata": {},
   "source": [
    "#### Test Cases"
   ]
  },
  {
   "cell_type": "markdown",
   "metadata": {},
   "source": [
    "#### Tests 1: Simple State"
   ]
  },
  {
   "cell_type": "code",
   "execution_count": 672,
   "metadata": {},
   "outputs": [
    {
     "data": {
      "image/png": "[encoded data removed]",
      "text/plain": [
       "<Figure size 432x288 with 1 Axes>"
      ]
     },
     "execution_count": 672,
     "metadata": {},
     "output_type": "execute_result"
    }
   ],
   "source": [
    "simple_state = boards[-1]\n",
    "\n",
    "# Board was generated randomly. Check it\n",
    "#  it usually has about 1 or 2 jumps that can be made.\n",
    "visualize_state(simple_state)"
   ]
  },
  {
   "cell_type": "code",
   "execution_count": 673,
   "metadata": {
    "scrolled": false
   },
   "outputs": [
    {
     "name": "stdout",
     "output_type": "stream",
     "text": [
      "64.3 µs ± 2.37 µs per loop (mean ± std. dev. of 7 runs, 10000 loops each)\n"
     ]
    }
   ],
   "source": [
    "%timeit get_jumps(simple_state)"
   ]
  },
  {
   "cell_type": "code",
   "execution_count": 674,
   "metadata": {},
   "outputs": [
    {
     "data": {
      "image/png": "[encoded data removed]",
      "text/plain": [
       "<Figure size 432x288 with 1 Axes>"
      ]
     },
     "execution_count": 674,
     "metadata": {},
     "output_type": "execute_result"
    }
   ],
   "source": [
    "visualize_state(torch.tensor(get_jumps(simple_state)[0][0]))"
   ]
  },
  {
   "cell_type": "code",
   "execution_count": 675,
   "metadata": {},
   "outputs": [],
   "source": [
    "test_locs = []\n",
    "for let in 'ABCDEF':\n",
    "  test_locs.append(f'{let}{11}')\n",
    "  test_locs.append(f'{let}{9}')\n",
    "for num in range(1,18):\n",
    "  test_locs.append(f'G{num}')\n",
    "\n",
    "winnable_locs = test_locs + ['G18']\n",
    "winnable_locs_2 = [f'H{n}' for n in range(11,20)]\n",
    "\n",
    "test_1           = createState('H10', *test_locs)\n",
    "winnable_state   = createState('H10', *winnable_locs)\n",
    "winnable_state_2 = createState('H10', *winnable_locs_2)"
   ]
  },
  {
   "cell_type": "code",
   "execution_count": 680,
   "metadata": {},
   "outputs": [
    {
     "name": "stdout",
     "output_type": "stream",
     "text": [
      "46541 possible jumps\n",
      "1.3 s ± 80.6 ms per loop (mean ± std. dev. of 7 runs, 1 loop each)\n"
     ]
    },
    {
     "data": {
      "image/png": "[encoded data removed]",
      "text/plain": [
       "<Figure size 432x288 with 1 Axes>"
      ]
     },
     "execution_count": 680,
     "metadata": {},
     "output_type": "execute_result"
    }
   ],
   "source": [
    "# Pretty fast on a per-jump basis\n",
    "print(f'{len(get_jumps(test_1))} possible jumps')\n",
    "%timeit get_jumps(test_1)\n",
    "visualize_state(test_1)"
   ]
  },
  {
   "cell_type": "code",
   "execution_count": 688,
   "metadata": {},
   "outputs": [],
   "source": [
    "final_cols = [jump_data[1][-1][1] for jump_data in get_jumps(winnable_state)]"
   ]
  },
  {
   "cell_type": "code",
   "execution_count": 689,
   "metadata": {},
   "outputs": [
    {
     "data": {
      "text/plain": [
       "[7, 9, 11, 13, 15, 17, 5, 3, 1]"
      ]
     },
     "execution_count": 689,
     "metadata": {},
     "output_type": "execute_result"
    }
   ],
   "source": [
    "list(unique_everseen(final_cols))"
   ]
  },
  {
   "cell_type": "code",
   "execution_count": 681,
   "metadata": {},
   "outputs": [
    {
     "name": "stdout",
     "output_type": "stream",
     "text": [
      "53065\n"
     ]
    },
    {
     "data": {
      "image/png": "[encoded data removed]",
      "text/plain": [
       "<Figure size 432x288 with 1 Axes>"
      ]
     },
     "execution_count": 681,
     "metadata": {},
     "output_type": "execute_result"
    }
   ],
   "source": [
    "# Turns out this isn't actually winnable\n",
    "print(len(get_jumps(winnable_state)))\n",
    "visualize_state(winnable_state)"
   ]
  },
  {
   "cell_type": "code",
   "execution_count": 685,
   "metadata": {},
   "outputs": [
    {
     "name": "stdout",
     "output_type": "stream",
     "text": [
      "1\n",
      "57.6 µs ± 1.37 µs per loop (mean ± std. dev. of 7 runs, 10000 loops each)\n"
     ]
    },
    {
     "data": {
      "image/png": "[encoded data removed]",
      "text/plain": [
       "<Figure size 432x288 with 1 Axes>"
      ]
     },
     "execution_count": 685,
     "metadata": {},
     "output_type": "execute_result"
    }
   ],
   "source": [
    "print(len(get_jumps(winnable_state_2)))\n",
    "%timeit get_jumps(winnable_state_2)\n",
    "visualize_state(winnable_state_2)"
   ]
  },
  {
   "cell_type": "code",
   "execution_count": null,
   "metadata": {},
   "outputs": [],
   "source": []
  }
 ],
 "metadata": {
  "kernelspec": {
   "display_name": "PyTorch",
   "language": "python",
   "name": "torch"
  },
  "language_info": {
   "codemirror_mode": {
    "name": "ipython",
    "version": 3
   },
   "file_extension": ".py",
   "mimetype": "text/x-python",
   "name": "python",
   "nbconvert_exporter": "python",
   "pygments_lexer": "ipython3",
   "version": "3.7.6"
  }
 },
 "nbformat": 4,
 "nbformat_minor": 2
}
