{
 "cells": [
  {
   "cell_type": "markdown",
   "metadata": {
    "colab_type": "text",
    "id": "sOBf9FoVO5gY"
   },
   "source": [
    "# Setup"
   ]
  },
  {
   "cell_type": "markdown",
   "metadata": {
    "colab_type": "text",
    "id": "2ypbH-_VO5gZ"
   },
   "source": [
    "## Create Filesystem\n",
    "This notebook is primarily meant to be executed in Colab as a computational backend. If you want to run on your own hardware with data, you need to set `data_dir` and `ALLOW_IO`\n",
    "\n",
    "This notebook viewable directly on Colab from [https://colab.research.google.com/github/rcharan/phutball/blob/master/pytorch-implementation/model-training.ipynb](https://colab.research.google.com/github/rcharan/phutball/blob/master/pytorch-implementation/model-training.ipynb) (it is a mirror of github). But if it has moved branches or you are looking at a past commit, look at the [Google instructions](https://colab.research.google.com/github/googlecolab/colabtools/blob/master/notebooks/colab-github-demo.ipynb) on where to find this file.\n",
    "\n",
    "The workflow is:\n",
    " - Data stored in (my personal/private) Google Drive\n",
    " - Utilities/library files (for importing) on github, edited on local hardware and pushed to github.\n",
    " - Notebook hosted on github, edited both in Colab or locally (depending on the relative value of having a GPU attached versus being able to use regular Jupyter keyboard shortcuts/a superior interface)"
   ]
  },
  {
   "cell_type": "code",
   "execution_count": 1,
   "metadata": {
    "colab": {
     "base_uri": "https://localhost:8080/",
     "height": 292
    },
    "colab_type": "code",
    "id": "RY-nqnzUzB5k",
    "outputId": "94bd58d0-db84-47a2-f678-b95c41be8fef"
   },
   "outputs": [
    {
     "name": "stdout",
     "output_type": "stream",
     "text": [
      "Go to this URL in a browser: https://accounts.google.com/o/oauth2/auth?client_id=947318989803-6bn6qk8qdgf4n4g3pfee6491hc0brc4i.apps.googleusercontent.com&redirect_uri=urn%3aietf%3awg%3aoauth%3a2.0%3aoob&response_type=code&scope=email%20https%3a%2f%2fwww.googleapis.com%2fauth%2fdocs.test%20https%3a%2f%2fwww.googleapis.com%2fauth%2fdrive%20https%3a%2f%2fwww.googleapis.com%2fauth%2fdrive.photos.readonly%20https%3a%2f%2fwww.googleapis.com%2fauth%2fpeopleapi.readonly\n",
      "\n",
      "Enter your authorization code:\n",
      "··········\n",
      "Mounted at /content/drive\n",
      "mkdir: cannot create directory ‘/content/drive/My Drive/phutball’: File exists\n",
      "/content\n",
      "Cloning into 'phutball'...\n",
      "remote: Enumerating objects: 147, done.\u001b[K\n",
      "remote: Counting objects: 100% (147/147), done.\u001b[K\n",
      "remote: Compressing objects: 100% (100/100), done.\u001b[K\n",
      "remote: Total 2131 (delta 89), reused 79 (delta 45), pack-reused 1984\u001b[K\n",
      "Receiving objects: 100% (2131/2131), 38.57 MiB | 37.68 MiB/s, done.\n",
      "Resolving deltas: 100% (1340/1340), done.\n",
      "/content/phutball\n"
     ]
    }
   ],
   "source": [
    "# Attempt Colab setup if on Colab\n",
    "try:\n",
    "  import google.colab\n",
    "except:\n",
    "  ALLOW_IO = False\n",
    "else:\n",
    "  # Mount Google Drive at data_dir\n",
    "  #  (for data)\n",
    "  from google.colab import drive\n",
    "  from os.path import join\n",
    "  ROOT = '/content/drive'\n",
    "  DATA = 'My Drive/phutball'\n",
    "  drive.mount(ROOT)\n",
    "  ALLOW_IO = True\n",
    "  data_dir = join(ROOT, DATA)\n",
    "  !mkdir \"{data_dir}\"     # in case we haven't created it already   \n",
    "\n",
    "  # Pull in code from github\n",
    "  %cd /content\n",
    "  github_repo = 'https://github.com/rcharan/phutball'\n",
    "  !git clone -b master {github_repo}\n",
    "  %cd /content/phutball\n",
    "  \n",
    "  # Point python to code base\n",
    "  import sys\n",
    "  sys.path.append('/content/phutball/pytorch-implementation')\n",
    "\n",
    "  # Updater for library functions changed on local hardware and pushed to github\n",
    "  #  (circuitous, I know)\n",
    "  def update_repo():\n",
    "    !git pull"
   ]
  },
  {
   "cell_type": "markdown",
   "metadata": {
    "colab_type": "text",
    "id": "zF1C55w-O5gg"
   },
   "source": [
    "## Imports"
   ]
  },
  {
   "cell_type": "code",
   "execution_count": 1,
   "metadata": {
    "colab": {},
    "colab_type": "code",
    "id": "jbaorYhzwUze"
   },
   "outputs": [
    {
     "ename": "ModuleNotFoundError",
     "evalue": "No module named 'lib.timer'",
     "output_type": "error",
     "traceback": [
      "\u001b[0;31m---------------------------------------------------------------------------\u001b[0m",
      "\u001b[0;31mModuleNotFoundError\u001b[0m                       Traceback (most recent call last)",
      "\u001b[0;32m<ipython-input-1-2aceb9921714>\u001b[0m in \u001b[0;36m<module>\u001b[0;34m\u001b[0m\n\u001b[1;32m     15\u001b[0m \u001b[0;32mfrom\u001b[0m \u001b[0mlib\u001b[0m\u001b[0;34m.\u001b[0m\u001b[0mutilities\u001b[0m         \u001b[0;32mimport\u001b[0m \u001b[0mconfig\u001b[0m\u001b[0;34m,\u001b[0m \u001b[0mlfilter\u001b[0m\u001b[0;34m\u001b[0m\u001b[0;34m\u001b[0m\u001b[0m\n\u001b[1;32m     16\u001b[0m \u001b[0;32mfrom\u001b[0m \u001b[0mlib\u001b[0m\u001b[0;34m.\u001b[0m\u001b[0mtesting_utilities\u001b[0m \u001b[0;32mimport\u001b[0m \u001b[0mcreate_state\u001b[0m\u001b[0;34m,\u001b[0m \u001b[0mvisualize_state\u001b[0m\u001b[0;34m,\u001b[0m \u001b[0mboards\u001b[0m\u001b[0;34m\u001b[0m\u001b[0;34m\u001b[0m\u001b[0m\n\u001b[0;32m---> 17\u001b[0;31m \u001b[0;32mfrom\u001b[0m \u001b[0mlib\u001b[0m\u001b[0;34m.\u001b[0m\u001b[0mtimer\u001b[0m             \u001b[0;32mimport\u001b[0m \u001b[0mTimer\u001b[0m\u001b[0;34m\u001b[0m\u001b[0;34m\u001b[0m\u001b[0m\n\u001b[0m\u001b[1;32m     18\u001b[0m \u001b[0;34m\u001b[0m\u001b[0m\n\u001b[1;32m     19\u001b[0m \u001b[0;32mfrom\u001b[0m \u001b[0mlib\u001b[0m\u001b[0;34m.\u001b[0m\u001b[0mmove_selection\u001b[0m    \u001b[0;32mimport\u001b[0m \u001b[0mget_next_move_training\u001b[0m\u001b[0;34m\u001b[0m\u001b[0;34m\u001b[0m\u001b[0m\n",
      "\u001b[0;31mModuleNotFoundError\u001b[0m: No module named 'lib.timer'"
     ]
    }
   ],
   "source": [
    "%%capture\n",
    "\n",
    "%load_ext autoreload\n",
    "%autoreload 2\n",
    "\n",
    "import os\n",
    "import gc\n",
    "import numpy as np\n",
    "\n",
    "# Codebase\n",
    "from lib.models.model_v3   import TDConway\n",
    "from lib.off_policy        import EpsilonGreedy\n",
    "from lib.optim             import AlternatingTDLambda\n",
    "\n",
    "from lib.training          import training_loop\n",
    "\n",
    "from lib.utilities         import config, lfilter\n",
    "from lib.testing_utilities import create_state, visualize_state, boards\n",
    "from lib.timer             import Timer\n",
    "\n",
    "from lib.move_selection    import get_next_move_training\n",
    "\n",
    "\n",
    "# Graphics for visualization\n",
    "import matplotlib.pyplot as plt\n",
    "import seaborn as sns\n",
    "sns.set()\n",
    "%matplotlib inline\n",
    "plt.ioff()"
   ]
  },
  {
   "cell_type": "markdown",
   "metadata": {
    "colab_type": "text",
    "id": "GOk4kKeOO5gm"
   },
   "source": [
    "## Device Management Utilities\n",
    "Setup for GPU, CPU, or (not working well/fully implemented) TPU"
   ]
  },
  {
   "cell_type": "code",
   "execution_count": 2,
   "metadata": {
    "colab": {},
    "colab_type": "code",
    "id": "fvu3YZGvN1Wi"
   },
   "outputs": [],
   "source": [
    "import os\n",
    "\n",
    "def install_tpu():\n",
    "  VERSION = \"1.5\"\n",
    "  !curl https://raw.githubusercontent.com/pytorch/xla/master/contrib/scripts/env-setup.py -o pytorch-xla-env-setup.py\n",
    "  !python pytorch-xla-env-setup.py --version $VERSION\n",
    "  \n",
    "use_tpu = 'COLAB_TPU_ADDR' in os.environ"
   ]
  },
  {
   "cell_type": "code",
   "execution_count": 3,
   "metadata": {
    "colab": {
     "base_uri": "https://localhost:8080/",
     "height": 357
    },
    "colab_type": "code",
    "id": "A7ETHYgbO5gm",
    "outputId": "25d19cf7-44f6-431c-bc4f-ad0a63212c82"
   },
   "outputs": [
    {
     "name": "stdout",
     "output_type": "stream",
     "text": [
      "8.00GiB available memory on CPU-based runtime\n"
     ]
    }
   ],
   "source": [
    "import torch\n",
    "\n",
    "if use_tpu:\n",
    "  # Install PyTorch/XLA\n",
    "  install_tpu()\n",
    "  import torch_xla\n",
    "  import torch_xla.core.xla_model as xm\n",
    "  \n",
    "  # Set the device\n",
    "  device = xm.xla_device()\n",
    "  \n",
    "  # Memory inspection\n",
    "  def print_memory_usage():\n",
    "    print('TPU memory inspection not implemented')\n",
    "  def print_max_memory_usage():\n",
    "    print('TPU memory inspection not implemented')\n",
    "  def garbage_collect():\n",
    "    gc.collect() # No TPU specific implementation yet\n",
    "    \n",
    "elif torch.cuda.is_available():\n",
    "  # Set the device\n",
    "  device = torch.device('cuda')\n",
    "  \n",
    "  # Echo GPU info\n",
    "  gpu_info = !nvidia-smi\n",
    "  gpu_info = '\\n'.join(gpu_info)\n",
    "  print(gpu_info)\n",
    "  \n",
    "  # Memory inspection and management\n",
    "  from lib.memory import (\n",
    "    print_memory_usage_cuda     as print_memory_usage,\n",
    "    print_max_memory_usage_cuda as print_max_memory_usage,\n",
    "    garbage_collect_cuda        as garbage_collect\n",
    "  )\n",
    "\n",
    "else:\n",
    "  # Set the device to CPU\n",
    "  device = torch.device('cpu')\n",
    "  \n",
    "  # Echo RAM info\n",
    "  from psutil import virtual_memory\n",
    "  from lib.memory import format_bytes\n",
    "  ram = virtual_memory().total\n",
    "  print(format_bytes(ram), 'available memory on CPU-based runtime')\n",
    "  \n",
    "  # Memory inspection and management\n",
    "  from lib.memory import (\n",
    "    print_memory_usage, \n",
    "    print_max_memory_usage,\n",
    "    garbage_collect\n",
    "  )"
   ]
  },
  {
   "cell_type": "markdown",
   "metadata": {
    "colab_type": "text",
    "id": "KxB31wNMO5hG"
   },
   "source": [
    "# Utilities"
   ]
  },
  {
   "cell_type": "code",
   "execution_count": 4,
   "metadata": {
    "colab": {},
    "colab_type": "code",
    "id": "tHORM9o9TCgY"
   },
   "outputs": [],
   "source": [
    "def save(fname, model):\n",
    "  state_dict = {\n",
    "      'model' : model.state_dict(),\n",
    "  }\n",
    "  torch.save(state_dict, f'{data_dir}/{fname}.pt')\n",
    "\n",
    "def fname(version, game_num):\n",
    "  return f'v{version}-{game_num}'\n",
    "  \n",
    "def load(version, game_num, model):\n",
    "  sd = torch.load(f'{data_dir}/{fname(version, game_num)}.pt')\n",
    "  model.load_state_dict(sd['model'])\n",
    "  return model"
   ]
  },
  {
   "cell_type": "markdown",
   "metadata": {
    "colab_type": "text",
    "id": "0cd-9BUVBJOM"
   },
   "source": [
    "# Training"
   ]
  },
  {
   "cell_type": "markdown",
   "metadata": {
    "colab_type": "text",
    "id": "ZgnPBVNB4XTo"
   },
   "source": [
    "## Fit one cycle"
   ]
  },
  {
   "cell_type": "code",
   "execution_count": null,
   "metadata": {
    "colab": {},
    "colab_type": "code",
    "id": "MTstggDJiTjM"
   },
   "outputs": [],
   "source": [
    "from lib.pretraining.fit_one_cycle import fit_one_cycle"
   ]
  },
  {
   "cell_type": "code",
   "execution_count": null,
   "metadata": {
    "colab": {
     "base_uri": "https://localhost:8080/",
     "height": 34
    },
    "colab_type": "code",
    "id": "y943nd1nxNnL",
    "outputId": "a4677c89-c834-4808-c45b-cb6352544f97"
   },
   "outputs": [
    {
     "name": "stdout",
     "output_type": "stream",
     "text": [
      "6942/6942 [==============================] - 274s 40ms/step\n"
     ]
    }
   ],
   "source": [
    "model = TDConway(config).to(device)\n",
    "data = fit_one_cycle(model)"
   ]
  },
  {
   "cell_type": "code",
   "execution_count": null,
   "metadata": {
    "colab": {},
    "colab_type": "code",
    "id": "xgvyC2ptxvsY"
   },
   "outputs": [],
   "source": [
    "import matplotlib.pyplot as plt\n",
    "import seaborn as sns\n",
    "import pandas as pd\n",
    "sns.set()"
   ]
  },
  {
   "cell_type": "code",
   "execution_count": null,
   "metadata": {
    "colab": {
     "base_uri": "https://localhost:8080/",
     "height": 291
    },
    "colab_type": "code",
    "id": "0a-xUM-4x8eM",
    "outputId": "3c0e1c27-d7b4-41e2-86bf-2d0d6c0721a9"
   },
   "outputs": [
    {
     "data": {
      "image/png": "[encoded data removed]",
      "text/plain": [
       "<Figure size 432x288 with 1 Axes>"
      ]
     },
     "execution_count": 21,
     "metadata": {
      "tags": []
     },
     "output_type": "execute_result"
    }
   ],
   "source": [
    "df = pd.DataFrame(data, columns = ['lr', 'loss'])\n",
    "df['loss'] = df.loss.apply(lambda l : l.item())\n",
    "df = df.groupby('lr').mean().reset_index()\n",
    "\n",
    "fig, ax = plt.subplots()\n",
    "sns.lineplot(x = 'lr', y='loss', data = df, ax = ax)\n",
    "ax.set_xscale('log', basex = 10)\n",
    "ax.set_yscale('log', basey = 10)\n",
    "fig"
   ]
  },
  {
   "cell_type": "markdown",
   "metadata": {
    "colab_type": "text",
    "id": "Lrt0AqtH4iYO"
   },
   "source": [
    "## Pretraining"
   ]
  },
  {
   "cell_type": "code",
   "execution_count": 6,
   "metadata": {
    "colab": {},
    "colab_type": "code",
    "id": "d_TWjyDcidf_"
   },
   "outputs": [],
   "source": [
    "from lib.pretraining.pre_training import pre_train\n",
    "from torch.optim import SGD"
   ]
  },
  {
   "cell_type": "code",
   "execution_count": null,
   "metadata": {
    "colab": {
     "base_uri": "https://localhost:8080/",
     "height": 34
    },
    "colab_type": "code",
    "id": "BfsZxT94iaIx",
    "outputId": "f7402259-7bd5-411d-c7d1-803c01a60941"
   },
   "outputs": [
    {
     "name": "stdout",
     "output_type": "stream",
     "text": [
      "17133/40000 [===========>..................] - ETA: 4:55 - loss: 0.0026"
     ]
    }
   ],
   "source": [
    "model = TDConway(config).to(device)\n",
    "optimizer = SGD(model.parameters(), lr = 0.05)\n",
    "\n",
    "pre_train(model, optimizer, loops = 40000, batch_size = 300)"
   ]
  },
  {
   "cell_type": "code",
   "execution_count": null,
   "metadata": {
    "colab": {},
    "colab_type": "code",
    "id": "urTf19bSqUNb"
   },
   "outputs": [],
   "source": [
    "version = '0.4.1'\n",
    "game_num = 'pre40000x300'\n",
    "\n",
    "save(fname(version, game_num), model)"
   ]
  },
  {
   "cell_type": "markdown",
   "metadata": {
    "colab_type": "text",
    "id": "mlOE_I84O5hD"
   },
   "source": [
    "## Profile"
   ]
  },
  {
   "cell_type": "code",
   "execution_count": null,
   "metadata": {
    "colab": {},
    "colab_type": "code",
    "id": "mWmJPdMtDgHt"
   },
   "outputs": [],
   "source": [
    "from lib.utilities import product"
   ]
  },
  {
   "cell_type": "code",
   "execution_count": null,
   "metadata": {
    "colab": {},
    "colab_type": "code",
    "id": "HqA5FtRSCn5C"
   },
   "outputs": [],
   "source": [
    "initial_state = create_state('H10').to(device)\n",
    "epsilon_greedy = EpsilonGreedy(0.01)\n",
    "\n",
    "def num_params(model):\n",
    "  return sum(\n",
    "      product(t.shape) for t in model.parameters()\n",
    "  )"
   ]
  },
  {
   "cell_type": "code",
   "execution_count": null,
   "metadata": {
    "colab": {
     "base_uri": "https://localhost:8080/",
     "height": 136
    },
    "colab_type": "code",
    "id": "-Etz9nnawU0i",
    "outputId": "6df2d484-ef50-4f0d-e53d-70d70e43089b",
    "scrolled": false
   },
   "outputs": [
    {
     "name": "stdout",
     "output_type": "stream",
     "text": [
      "1,935,105 parameters\n",
      "100 loops, best of 3: 3.28 ms per loop\n",
      "1/1 [==============================] - 0s 622us/step\n",
      "1/1 [==============================] - 0s 188us/step\n",
      "1/1 [==============================] - 0s 192us/step\n",
      "1/1 [==============================] - 0s 172us/step\n",
      "1 loop, best of 3: 473 ms per loop\n"
     ]
    }
   ],
   "source": [
    "from torch.optim import SGD\n",
    "# version = '0.3.1'\n",
    "# game_num = '70000'\n",
    "model     = TDConway(config, temperature = 0.1).to(device)\n",
    "model     = load(version, game_num, model)\n",
    "\n",
    "optimizer = AlternatingTDLambda(model.parameters(), alpha = 0.05, lamda = 0.9)\n",
    "\n",
    "print(f'{num_params(model):,d} parameters')\n",
    "%timeit get_next_move_training(initial_state, model, device)\n",
    "%timeit training_loop(model, optimizer, 1, device, off_policy = epsilon_greedy)\n",
    "# %prun training_loop(model, optimizer, 1, device, off_policy = epsilon_greedy)"
   ]
  },
  {
   "cell_type": "markdown",
   "metadata": {
    "colab_type": "text",
    "id": "eqLsixqoP3kV"
   },
   "source": [
    "## Train"
   ]
  },
  {
   "cell_type": "code",
   "execution_count": 5,
   "metadata": {
    "colab": {},
    "colab_type": "code",
    "id": "PB5nj1edBoaH"
   },
   "outputs": [],
   "source": [
    "from datetime import datetime\n",
    "from pytz import timezone\n",
    "eastern = timezone('US/Eastern')\n"
   ]
  },
  {
   "cell_type": "code",
   "execution_count": 6,
   "metadata": {
    "colab": {},
    "colab_type": "code",
    "id": "OsYoeCm2q-Wh"
   },
   "outputs": [],
   "source": [
    "epsilon_greedy = EpsilonGreedy(0.05)\n",
    "model = TDConway(config, temperature = 0.1).to(device)\n",
    "optimizer = AlternatingTDLambda(model.parameters(), 0.05, 0.9)\n",
    "\n",
    "version  = '0.4.1'\n",
    "game_num = 'pre40000x300'\n",
    "\n",
    "load(version, game_num, model);"
   ]
  },
  {
   "cell_type": "code",
   "execution_count": null,
   "metadata": {
    "colab": {
     "base_uri": "https://localhost:8080/",
     "height": 136
    },
    "colab_type": "code",
    "id": "92NgliNkT7vm",
    "outputId": "1277d882-38cc-41ac-89d7-bdbbc50bfda8"
   },
   "outputs": [
    {
     "name": "stdout",
     "output_type": "stream",
     "text": [
      "50000/50000 [==============================] - 459s 9ms/step\n",
      "Finished 50000 games at 04:25PM EDT\n",
      "50000/50000 [==============================] - 462s 9ms/step\n",
      "Finished 100000 games at 04:32PM EDT\n",
      "50000/50000 [==============================] - 455s 9ms/step\n",
      "Finished 150000 games at 04:40PM EDT\n",
      " 2080/50000 [>.............................] - ETA: 7:26"
     ]
    }
   ],
   "source": [
    "game_num = 0\n",
    "\n",
    "batch_size = 5000\n",
    "\n",
    "while True: # Until Colab or User disconnects out of boredom\n",
    "  try:\n",
    "    training_loop(model, optimizer, batch_size, device, \n",
    "                  off_policy = epsilon_greedy, \n",
    "                  verbose = 1,\n",
    "                  initial = 0.1)\n",
    "    game_num += batch_size\n",
    "\n",
    "    save(fname(version, game_num), model)\n",
    "\n",
    "    print(f'Finished {game_num} games at', datetime.now(eastern).strftime('%I:%M%p %Z'))\n",
    "  except KeyboardInterrupt:\n",
    "    break"
   ]
  },
  {
   "cell_type": "code",
   "execution_count": null,
   "metadata": {
    "colab": {},
    "colab_type": "code",
    "id": "hywC_0PRNKdc"
   },
   "outputs": [],
   "source": [
    "# Versioning:\n",
    "#  Major versions - major change in approach\n",
    "#  Minor versions - incompatible architecture tweaks\n",
    "#  Build          - retraining or changes in training parameters\n",
    "#  Game number    - number of games trained or pre{E}x{B} where E is the the\n",
    "#                   number of batches and B is the batch size for pre-training\n",
    "# Example: v0.1.2 @400 is the second attempt at training the v0.1 architecture\n",
    "#  and was trained for 400 games\n",
    "\n",
    "# Performance benchmarks.\n",
    "#  GPU benchmarks are on a P100 unless otherwise stated\n",
    "#    per move    : training-relevant\n",
    "#    forward pass: evaluation (arena mode) relevant\n",
    "#  CPU benchmarks are for inference on a fixed set of 300 randomly\n",
    "#    generated boards on an Intel i5 chipset. (deployment-relevant)\n",
    "#  Memory consumption has not been an issue\n",
    "\n",
    "# v0.1: architecture from model_v1. Training: Alternating TD(λ)\n",
    "#  ~60M params (59,943,809)\n",
    "#  GPU: 100–110ms/move with 50-60ms for forward pass\n",
    "#  CPU: 8.1s ± 0.5s \n",
    "#  alpha = 0.01, lambda = 0.9, epsilon = 0.1\n",
    "#\n",
    "#  - v0.1.1 - don't use, bug in training\n",
    "#  - v0.1.2 - Use. available @400. Win rate v RandoTron 51% (😢)\n",
    "\n",
    "# v0.2: architecture from model_v2. Smaller Residual ConvNet (17 layers)\n",
    "#  Training: Alternating TD(λ) WITH pretraining to prefer the ball to the\n",
    "#   right on randomly generated boards\n",
    "#  ~4.4M params (4,381,505)\n",
    "#  GPU: 30-35ms/move with ~12ms for forward pass\n",
    "#  CPU: 1.1s ± 0.02s\n",
    "#\n",
    "# - v0.2.1 - Available @pre10000x300, @400, @1500, @3500\n",
    "#          - Hyperparameters same as v0.1\n",
    "#            Win rate v RandoTron \n",
    "#            - @pre-trained: 75.4% ±1.4% (!?)\n",
    "#            - @400: 49%\n",
    "#            - @1500: 56.9% ±1.8%\n",
    "#            - @3500: 54.8% ±1.7%\n",
    "#            - In further increments of 500 as [4000, 4500, ..., 20500]\n",
    "#            - @10500: 60.3% ±1.6%\n",
    "#            - @17500: 59.5% ±1.2%\n",
    "# - v0.2.2 - Increased pretraining, epsilon = 0.01\n",
    "#          - Available @pre30000x300 (71.2% ± 2.3%)\n",
    "#          - And in increments of 500 [500, 1000, ..., 82000]\n",
    "#          - @17500: 71.5% ±1.1%\n",
    "#          - @82000: 99.8% ±0.1%\n",
    "\n",
    "# v0.3: architecture from model_v3. Much smaller (7 layers), no residuals\n",
    "# ~1.9M params (1,935,105)\n",
    "# alpha = 0.05, epsilon = 0.1, lambda = 0.9\n",
    "#\n",
    "# -v0.3.1 - Available at @pre40000x300, increments of 1000\n",
    "#         - @27000: 71.3% ±1.1%\n",
    "#         - @73000: 58.8% \n",
    "# -v0.3.2 - With ε = 0.05"
   ]
  },
  {
   "cell_type": "markdown",
   "metadata": {
    "colab_type": "text",
    "id": "hB7XLdBFAI1i"
   },
   "source": [
    "# Evaluate"
   ]
  },
  {
   "cell_type": "code",
   "execution_count": null,
   "metadata": {
    "colab": {},
    "colab_type": "code",
    "id": "eYsHmg68JIkN"
   },
   "outputs": [],
   "source": [
    "from lib.arena import Player, Battle, RandoTron"
   ]
  },
  {
   "cell_type": "code",
   "execution_count": null,
   "metadata": {
    "colab": {},
    "colab_type": "code",
    "id": "oNbNXAIuJLS7"
   },
   "outputs": [],
   "source": [
    "# Player 1\n",
    "model = TDConway(config).to(device)\n",
    "version  = '0.2.3'\n",
    "game_num = 150000\n",
    "sd = torch.load(f'{data_dir}/{fname(version, game_num)}.pt', map_location = device)\n",
    "model.load_state_dict(sd['model'])\n",
    "\n",
    "td_conway = Player(model, name = f'TD Conway v{version} @{game_num}')\n",
    "td_conway.eval()\n",
    "randotron = RandoTron()\n",
    "battle    = Battle(td_conway, randotron, verbose = 1)"
   ]
  },
  {
   "cell_type": "code",
   "execution_count": null,
   "metadata": {
    "colab": {
     "base_uri": "https://localhost:8080/",
     "height": 34
    },
    "colab_type": "code",
    "id": "ALkfa_V9cjH-",
    "outputId": "c12ee8a4-2893-4277-fad3-632c91b79184"
   },
   "outputs": [
    {
     "name": "stdout",
     "output_type": "stream",
     "text": [
      " 545/1600 [=========>....................] - ETA: 13:33"
     ]
    }
   ],
   "source": [
    "battle.play_match(1600, device)"
   ]
  },
  {
   "cell_type": "code",
   "execution_count": null,
   "metadata": {
    "colab": {},
    "colab_type": "code",
    "id": "4O0diFCd6M4T"
   },
   "outputs": [],
   "source": [
    "# Player 1 @3500\n",
    "model = TDConway(config).to(device)\n",
    "version  = '0.2.1'\n",
    "game_num = 3500\n",
    "sd = torch.load(f'{data_dir}/{fname(version, game_num)}.pt', map_location = device)\n",
    "model.load_state_dict(sd['model'])\n",
    "td_conway_1 = Player(model, name = f'TD Conway v{version} @{game_num}')\n",
    "td_conway_1.eval()\n",
    "\n",
    "# Player 2 @ 10500\n",
    "model = TDConway(config).to(device)\n",
    "version  = '0.2.1'\n",
    "game_num = 10500\n",
    "sd = torch.load(f'{data_dir}/{fname(version, game_num)}.pt', map_location = device)\n",
    "model.load_state_dict(sd['model'])\n",
    "td_conway_2 = Player(model, name = f'TD Conway v{version} @{game_num}')\n",
    "td_conway_2.eval()\n",
    "\n",
    "battle    = Battle(td_conway_1, td_conway_2, verbose = 1)"
   ]
  },
  {
   "cell_type": "code",
   "execution_count": null,
   "metadata": {
    "colab": {},
    "colab_type": "code",
    "id": "XNwLyUBQ-LU3"
   },
   "outputs": [],
   "source": [
    "battle.play_match(900, device)"
   ]
  }
 ],
 "metadata": {
  "accelerator": "GPU",
  "colab": {
   "name": "model-training.ipynb",
   "provenance": [],
   "toc_visible": true
  },
  "kernelspec": {
   "display_name": "PyTorch",
   "language": "python",
   "name": "torch"
  },
  "language_info": {
   "codemirror_mode": {
    "name": "ipython",
    "version": 3
   },
   "file_extension": ".py",
   "mimetype": "text/x-python",
   "name": "python",
   "nbconvert_exporter": "python",
   "pygments_lexer": "ipython3",
   "version": "3.7.6"
  }
 },
 "nbformat": 4,
 "nbformat_minor": 1
}
