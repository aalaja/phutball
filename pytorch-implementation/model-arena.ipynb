{
 "cells": [
  {
   "cell_type": "markdown",
   "metadata": {},
   "source": [
    "# Model Evaluation by playing them against one another!"
   ]
  },
  {
   "cell_type": "code",
   "execution_count": 1,
   "metadata": {},
   "outputs": [],
   "source": [
    "%%capture\n",
    "%load_ext autoreload\n",
    "%autoreload 2\n",
    "\n",
    "from lib.arena import RandoTron, Battle, Player\n",
    "import numpy as np"
   ]
  },
  {
   "cell_type": "code",
   "execution_count": 2,
   "metadata": {},
   "outputs": [],
   "source": [
    "player1 = RandoTron(name = 'RandoTron v1')\n",
    "player2 = RandoTron(name = 'RandoTron vAlpha')"
   ]
  },
  {
   "cell_type": "code",
   "execution_count": 3,
   "metadata": {},
   "outputs": [
    {
     "name": "stdout",
     "output_type": "stream",
     "text": [
      "84/84 [==============================] - 1s 8ms/step\n",
      "69/69 [==============================] - 1s 9ms/step\n",
      "104/104 [==============================] - 1s 9ms/step\n",
      "32/32 [==============================] - 0s 12ms/step\n",
      "58/58 [==============================] - 1s 11ms/step\n",
      "84/84 [==============================] - 1s 9ms/step\n",
      "73/73 [==============================] - 1s 8ms/step\n",
      "52/52 [==============================] - 0s 9ms/step\n",
      "52/52 [==============================] - 0s 9ms/step\n",
      "148/148 [==============================] - 1s 7ms/step\n",
      "10 games were played between RandoTron v1 and RandoTron vAlpha with 0 draws.\n",
      "Result was a statistically improbable tie!\n",
      "Player 1 on average won in a game of length 84.0.\n",
      "Player 2 on average won in a game of length 67.2\n",
      "Overall average length of game was 75.6\n",
      "Total time taken: 6.5s at\n",
      " - 653ms per finished game.\n",
      " - 9ms per move in a finished game\n"
     ]
    }
   ],
   "source": [
    "battle = Battle(player1, player2, verbose = 1)\n",
    "np.random.seed(42)\n",
    "battle.play_match(10)"
   ]
  },
  {
   "cell_type": "code",
   "execution_count": 4,
   "metadata": {},
   "outputs": [
    {
     "name": "stdout",
     "output_type": "stream",
     "text": [
      "100 games were played between RandoTron v1 and RandoTron vAlpha with 0 draws.\n",
      "The winner was RandoTron v1 with a 53.0% win rate!\n",
      "Player 1 on average won in a game of length 77.7.\n",
      "Player 2 on average won in a game of length 78.7\n",
      "Overall average length of game was 78.15\n",
      "Total time taken: 1:11 at\n",
      " - 716ms per finished game.\n",
      " - 9ms per move in a finished game\n"
     ]
    }
   ],
   "source": [
    "battle = Battle(player1, player2, verbose = 0)\n",
    "np.random.seed(42)\n",
    "battle.play_match(100)"
   ]
  }
 ],
 "metadata": {
  "kernelspec": {
   "display_name": "PyTorch",
   "language": "python",
   "name": "torch"
  },
  "language_info": {
   "codemirror_mode": {
    "name": "ipython",
    "version": 3
   },
   "file_extension": ".py",
   "mimetype": "text/x-python",
   "name": "python",
   "nbconvert_exporter": "python",
   "pygments_lexer": "ipython3",
   "version": "3.7.6"
  }
 },
 "nbformat": 4,
 "nbformat_minor": 4
}
